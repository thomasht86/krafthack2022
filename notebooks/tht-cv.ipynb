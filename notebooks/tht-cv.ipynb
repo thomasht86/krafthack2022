{
 "cells": [
  {
   "cell_type": "code",
   "execution_count": 1,
   "id": "8ad9b77b",
   "metadata": {},
   "outputs": [
    {
     "data": {
      "text/html": [
       "<style>.container { width:80% !important; }</style>"
      ],
      "text/plain": [
       "<IPython.core.display.HTML object>"
      ]
     },
     "metadata": {},
     "output_type": "display_data"
    }
   ],
   "source": [
    "import pandas as pd\n",
    "import seaborn as sns\n",
    "import matplotlib.pyplot as plt\n",
    "import numpy as np\n",
    "from IPython.core.display import display, HTML\n",
    "from sklearn.ensemble import RandomForestRegressor\n",
    "from sklearn.tree import DecisionTreeRegressor\n",
    "from sklearn.compose import make_column_transformer, ColumnTransformer\n",
    "from sklearn.pipeline import make_pipeline,Pipeline\n",
    "from sklearn.metrics import mean_absolute_percentage_error\n",
    "from sklearn.model_selection import KFold, cross_val_score\n",
    "\n",
    "plt.style.use('fivethirtyeight')\n",
    "display(HTML(\"<style>.container { width:80% !important; }</style>\"))"
   ]
  },
  {
   "cell_type": "markdown",
   "id": "4c95c034",
   "metadata": {},
   "source": [
    "# Read input files"
   ]
  },
  {
   "cell_type": "code",
   "execution_count": 2,
   "id": "d0c7ed6e",
   "metadata": {},
   "outputs": [],
   "source": [
    "# Decided to use both input dataset 1 and 2 to get more data to train on\n",
    "#df = pd.read_parquet(\"../container-data/input_dataset-1.parquet\")\n",
    "df = pd.read_parquet(\"../container-data/input_dataset-2.parquet\")\n",
    "pred_df = pd.read_parquet(\"../container-data/prediction_input.parquet\")"
   ]
  },
  {
   "cell_type": "code",
   "execution_count": 3,
   "id": "97b615c4",
   "metadata": {},
   "outputs": [
    {
     "data": {
      "text/plain": [
       "['Bolt_1_Tensile',\n",
       " 'Bolt_2_Tensile',\n",
       " 'Bolt_3_Tensile',\n",
       " 'Bolt_4_Tensile',\n",
       " 'Bolt_5_Tensile',\n",
       " 'Bolt_6_Tensile',\n",
       " 'Unit_4_Power',\n",
       " 'Unit_4_Reactive Power',\n",
       " 'Turbine_Guide Vane Opening',\n",
       " 'Turbine_Pressure Drafttube',\n",
       " 'Turbine_Pressure Spiral Casing',\n",
       " 'Turbine_Rotational Speed',\n",
       " 'mode']"
      ]
     },
     "execution_count": 3,
     "metadata": {},
     "output_type": "execute_result"
    }
   ],
   "source": [
    "pred_cols = [\"Bolt_\"+str(x)+\"_Tensile\" for x in range(1,7)]+list(pred_df.columns)\n",
    "pred_cols"
   ]
  },
  {
   "cell_type": "code",
   "execution_count": 4,
   "id": "ea84dbe9",
   "metadata": {},
   "outputs": [],
   "source": [
    "#df = pd.concat([df1.loc[:,pred_cols], df2.loc[:,pred_cols]], axis=0)"
   ]
  },
  {
   "cell_type": "code",
   "execution_count": 5,
   "id": "cd4b02ba",
   "metadata": {},
   "outputs": [],
   "source": [
    "#df.to_pickle(\"../container-data/df.pkl\")"
   ]
  },
  {
   "cell_type": "code",
   "execution_count": 6,
   "id": "a2b062f6",
   "metadata": {},
   "outputs": [],
   "source": [
    "#df = pd.read_pickle(\"../container-data/df.pkl\")\n",
    "df = df.loc[:,pred_cols]"
   ]
  },
  {
   "cell_type": "code",
   "execution_count": 7,
   "id": "6eaa9619",
   "metadata": {},
   "outputs": [
    {
     "data": {
      "text/plain": [
       "Index(['Bolt_1_Tensile', 'Bolt_2_Tensile', 'Bolt_3_Tensile', 'Bolt_4_Tensile',\n",
       "       'Bolt_5_Tensile', 'Bolt_6_Tensile', 'Unit_4_Power',\n",
       "       'Unit_4_Reactive Power', 'Turbine_Guide Vane Opening',\n",
       "       'Turbine_Pressure Drafttube', 'Turbine_Pressure Spiral Casing',\n",
       "       'Turbine_Rotational Speed', 'mode'],\n",
       "      dtype='object')"
      ]
     },
     "execution_count": 7,
     "metadata": {},
     "output_type": "execute_result"
    }
   ],
   "source": [
    "df.columns"
   ]
  },
  {
   "cell_type": "markdown",
   "id": "d376be85",
   "metadata": {},
   "source": [
    "# Common preprocessing"
   ]
  },
  {
   "cell_type": "code",
   "execution_count": 8,
   "id": "087363c8",
   "metadata": {},
   "outputs": [
    {
     "data": {
      "text/plain": [
       "Timestamp('1970-12-19 09:51:44')"
      ]
     },
     "execution_count": 8,
     "metadata": {},
     "output_type": "execute_result"
    }
   ],
   "source": [
    "# Want to extract the time of the earliest datapoint in the dataset\n",
    "start_time = df.index.min()\n",
    "start_time"
   ]
  },
  {
   "cell_type": "code",
   "execution_count": 9,
   "id": "d87c7ad0",
   "metadata": {},
   "outputs": [
    {
     "data": {
      "text/html": [
       "<div>\n",
       "<style scoped>\n",
       "    .dataframe tbody tr th:only-of-type {\n",
       "        vertical-align: middle;\n",
       "    }\n",
       "\n",
       "    .dataframe tbody tr th {\n",
       "        vertical-align: top;\n",
       "    }\n",
       "\n",
       "    .dataframe thead th {\n",
       "        text-align: right;\n",
       "    }\n",
       "</style>\n",
       "<table border=\"1\" class=\"dataframe\">\n",
       "  <thead>\n",
       "    <tr style=\"text-align: right;\">\n",
       "      <th></th>\n",
       "      <th>Bolt_1_Tensile</th>\n",
       "      <th>Bolt_2_Tensile</th>\n",
       "      <th>Bolt_3_Tensile</th>\n",
       "      <th>Bolt_4_Tensile</th>\n",
       "      <th>Bolt_5_Tensile</th>\n",
       "      <th>Bolt_6_Tensile</th>\n",
       "      <th>Unit_4_Power</th>\n",
       "      <th>Unit_4_Reactive Power</th>\n",
       "      <th>Turbine_Guide Vane Opening</th>\n",
       "      <th>Turbine_Pressure Drafttube</th>\n",
       "      <th>Turbine_Pressure Spiral Casing</th>\n",
       "      <th>Turbine_Rotational Speed</th>\n",
       "      <th>mode</th>\n",
       "    </tr>\n",
       "    <tr>\n",
       "      <th>timepoints</th>\n",
       "      <th></th>\n",
       "      <th></th>\n",
       "      <th></th>\n",
       "      <th></th>\n",
       "      <th></th>\n",
       "      <th></th>\n",
       "      <th></th>\n",
       "      <th></th>\n",
       "      <th></th>\n",
       "      <th></th>\n",
       "      <th></th>\n",
       "      <th></th>\n",
       "      <th></th>\n",
       "    </tr>\n",
       "  </thead>\n",
       "  <tbody>\n",
       "    <tr>\n",
       "      <th>1970-12-19 09:51:44</th>\n",
       "      <td>1598.481390</td>\n",
       "      <td>1480.989917</td>\n",
       "      <td>1684.247079</td>\n",
       "      <td>1601.359944</td>\n",
       "      <td>1635.585700</td>\n",
       "      <td>1674.848803</td>\n",
       "      <td>262.204308</td>\n",
       "      <td>2.899036</td>\n",
       "      <td>82.279976</td>\n",
       "      <td>173.955216</td>\n",
       "      <td>5310.799181</td>\n",
       "      <td>107.964278</td>\n",
       "      <td>operation</td>\n",
       "    </tr>\n",
       "    <tr>\n",
       "      <th>1970-12-19 09:51:45</th>\n",
       "      <td>1598.477449</td>\n",
       "      <td>1480.989528</td>\n",
       "      <td>1684.261611</td>\n",
       "      <td>1601.366508</td>\n",
       "      <td>1635.588478</td>\n",
       "      <td>1674.823883</td>\n",
       "      <td>262.104319</td>\n",
       "      <td>3.344630</td>\n",
       "      <td>82.277248</td>\n",
       "      <td>173.989815</td>\n",
       "      <td>5311.219755</td>\n",
       "      <td>107.964273</td>\n",
       "      <td>operation</td>\n",
       "    </tr>\n",
       "    <tr>\n",
       "      <th>1970-12-19 09:51:46</th>\n",
       "      <td>1598.479316</td>\n",
       "      <td>1481.003188</td>\n",
       "      <td>1684.270504</td>\n",
       "      <td>1601.374254</td>\n",
       "      <td>1635.583464</td>\n",
       "      <td>1674.841318</td>\n",
       "      <td>262.004330</td>\n",
       "      <td>3.790223</td>\n",
       "      <td>82.274520</td>\n",
       "      <td>174.024413</td>\n",
       "      <td>5311.640329</td>\n",
       "      <td>107.964269</td>\n",
       "      <td>operation</td>\n",
       "    </tr>\n",
       "    <tr>\n",
       "      <th>1970-12-19 09:51:47</th>\n",
       "      <td>1598.490184</td>\n",
       "      <td>1481.028827</td>\n",
       "      <td>1684.270683</td>\n",
       "      <td>1601.383179</td>\n",
       "      <td>1635.581384</td>\n",
       "      <td>1674.843245</td>\n",
       "      <td>261.904340</td>\n",
       "      <td>4.235817</td>\n",
       "      <td>82.271792</td>\n",
       "      <td>174.059012</td>\n",
       "      <td>5312.060902</td>\n",
       "      <td>107.964264</td>\n",
       "      <td>operation</td>\n",
       "    </tr>\n",
       "    <tr>\n",
       "      <th>1970-12-19 09:51:48</th>\n",
       "      <td>1598.494073</td>\n",
       "      <td>1481.059017</td>\n",
       "      <td>1684.271062</td>\n",
       "      <td>1601.378391</td>\n",
       "      <td>1635.591746</td>\n",
       "      <td>1674.872300</td>\n",
       "      <td>261.804351</td>\n",
       "      <td>4.064759</td>\n",
       "      <td>82.269064</td>\n",
       "      <td>174.153819</td>\n",
       "      <td>5312.405938</td>\n",
       "      <td>107.964259</td>\n",
       "      <td>operation</td>\n",
       "    </tr>\n",
       "  </tbody>\n",
       "</table>\n",
       "</div>"
      ],
      "text/plain": [
       "                     Bolt_1_Tensile  Bolt_2_Tensile  Bolt_3_Tensile  \\\n",
       "timepoints                                                            \n",
       "1970-12-19 09:51:44     1598.481390     1480.989917     1684.247079   \n",
       "1970-12-19 09:51:45     1598.477449     1480.989528     1684.261611   \n",
       "1970-12-19 09:51:46     1598.479316     1481.003188     1684.270504   \n",
       "1970-12-19 09:51:47     1598.490184     1481.028827     1684.270683   \n",
       "1970-12-19 09:51:48     1598.494073     1481.059017     1684.271062   \n",
       "\n",
       "                     Bolt_4_Tensile  Bolt_5_Tensile  Bolt_6_Tensile  \\\n",
       "timepoints                                                            \n",
       "1970-12-19 09:51:44     1601.359944     1635.585700     1674.848803   \n",
       "1970-12-19 09:51:45     1601.366508     1635.588478     1674.823883   \n",
       "1970-12-19 09:51:46     1601.374254     1635.583464     1674.841318   \n",
       "1970-12-19 09:51:47     1601.383179     1635.581384     1674.843245   \n",
       "1970-12-19 09:51:48     1601.378391     1635.591746     1674.872300   \n",
       "\n",
       "                     Unit_4_Power  Unit_4_Reactive Power  \\\n",
       "timepoints                                                 \n",
       "1970-12-19 09:51:44    262.204308               2.899036   \n",
       "1970-12-19 09:51:45    262.104319               3.344630   \n",
       "1970-12-19 09:51:46    262.004330               3.790223   \n",
       "1970-12-19 09:51:47    261.904340               4.235817   \n",
       "1970-12-19 09:51:48    261.804351               4.064759   \n",
       "\n",
       "                     Turbine_Guide Vane Opening  Turbine_Pressure Drafttube  \\\n",
       "timepoints                                                                    \n",
       "1970-12-19 09:51:44                   82.279976                  173.955216   \n",
       "1970-12-19 09:51:45                   82.277248                  173.989815   \n",
       "1970-12-19 09:51:46                   82.274520                  174.024413   \n",
       "1970-12-19 09:51:47                   82.271792                  174.059012   \n",
       "1970-12-19 09:51:48                   82.269064                  174.153819   \n",
       "\n",
       "                     Turbine_Pressure Spiral Casing  Turbine_Rotational Speed  \\\n",
       "timepoints                                                                      \n",
       "1970-12-19 09:51:44                     5310.799181                107.964278   \n",
       "1970-12-19 09:51:45                     5311.219755                107.964273   \n",
       "1970-12-19 09:51:46                     5311.640329                107.964269   \n",
       "1970-12-19 09:51:47                     5312.060902                107.964264   \n",
       "1970-12-19 09:51:48                     5312.405938                107.964259   \n",
       "\n",
       "                          mode  \n",
       "timepoints                      \n",
       "1970-12-19 09:51:44  operation  \n",
       "1970-12-19 09:51:45  operation  \n",
       "1970-12-19 09:51:46  operation  \n",
       "1970-12-19 09:51:47  operation  \n",
       "1970-12-19 09:51:48  operation  "
      ]
     },
     "execution_count": 9,
     "metadata": {},
     "output_type": "execute_result"
    }
   ],
   "source": [
    "df.head()"
   ]
  },
  {
   "cell_type": "code",
   "execution_count": 10,
   "id": "734ec31b",
   "metadata": {},
   "outputs": [],
   "source": [
    "def common_prep(df):\n",
    "    df[\"datetime\"] = df.index.values\n",
    "    df.index = np.arange(len(df))\n",
    "    # We drop rows with missing. No use in trying to impute. Creates more uncertainty.\n",
    "    df = df.dropna()\n",
    "    return df"
   ]
  },
  {
   "cell_type": "code",
   "execution_count": 11,
   "id": "0e718588",
   "metadata": {},
   "outputs": [],
   "source": [
    "df = common_prep(df)"
   ]
  },
  {
   "cell_type": "markdown",
   "id": "5b75c0dc",
   "metadata": {},
   "source": [
    "Want to make a holdout dataset for validation. This is held separate from crossvalidation.\n",
    "\n",
    "The holdout-set is chosen as 20% of the data. (Not chunked in time.)\n",
    "\n",
    "Argue that we do not get data leakage from the future, but get better validation that we are able to model dependencies across the whole dataset. "
   ]
  },
  {
   "cell_type": "code",
   "execution_count": 12,
   "id": "670976af",
   "metadata": {},
   "outputs": [],
   "source": [
    "def split_trn_val(df, frac=0.2):\n",
    "    df = df.copy()\n",
    "    val_inds = np.random.choice(df.index.values, size=int(len(df)*frac), replace=False)\n",
    "    val_df = df.iloc[df.index.isin(val_inds)]\n",
    "    trn_df = df.iloc[~df.index.isin(val_inds)]\n",
    "    return trn_df, val_df"
   ]
  },
  {
   "cell_type": "code",
   "execution_count": 13,
   "id": "5a26a9a0",
   "metadata": {},
   "outputs": [],
   "source": [
    "trn_df, val_df = split_trn_val(df)"
   ]
  },
  {
   "cell_type": "code",
   "execution_count": 14,
   "id": "0365b031",
   "metadata": {},
   "outputs": [
    {
     "data": {
      "text/plain": [
       "(1400000, 350000)"
      ]
     },
     "execution_count": 14,
     "metadata": {},
     "output_type": "execute_result"
    }
   ],
   "source": [
    "len(trn_df), len(val_df)"
   ]
  },
  {
   "cell_type": "code",
   "execution_count": 15,
   "id": "4053a857",
   "metadata": {},
   "outputs": [],
   "source": [
    "val_df_dt = val_df[\"datetime\"]"
   ]
  },
  {
   "cell_type": "code",
   "execution_count": 16,
   "id": "afcddb9b",
   "metadata": {},
   "outputs": [],
   "source": [
    "#trn_df.to_pickle(\"../container-data/trn_df.pkl\")"
   ]
  },
  {
   "cell_type": "code",
   "execution_count": 17,
   "id": "2c5ddb7e",
   "metadata": {},
   "outputs": [],
   "source": [
    "#val_df.to_pickle(\"../container-data/val_df.pkl\")"
   ]
  },
  {
   "cell_type": "code",
   "execution_count": 18,
   "id": "b9ffc6e2",
   "metadata": {},
   "outputs": [
    {
     "data": {
      "text/plain": [
       "['Bolt_1_Tensile',\n",
       " 'Bolt_2_Tensile',\n",
       " 'Bolt_3_Tensile',\n",
       " 'Bolt_4_Tensile',\n",
       " 'Bolt_5_Tensile',\n",
       " 'Bolt_6_Tensile']"
      ]
     },
     "execution_count": 18,
     "metadata": {},
     "output_type": "execute_result"
    }
   ],
   "source": [
    "y_cols = [\"Bolt_\"+str(count)+\"_Tensile\" for count in range(1,7)]\n",
    "y_cols"
   ]
  },
  {
   "cell_type": "code",
   "execution_count": null,
   "id": "f047ffc5",
   "metadata": {},
   "outputs": [],
   "source": []
  },
  {
   "cell_type": "code",
   "execution_count": null,
   "id": "12ed529a",
   "metadata": {},
   "outputs": [],
   "source": []
  },
  {
   "cell_type": "code",
   "execution_count": 19,
   "id": "949e5ec8",
   "metadata": {},
   "outputs": [],
   "source": [
    "def add_diff_cols(df):\n",
    "    return df"
   ]
  },
  {
   "cell_type": "code",
   "execution_count": null,
   "id": "1e9d776d",
   "metadata": {},
   "outputs": [],
   "source": []
  },
  {
   "cell_type": "code",
   "execution_count": null,
   "id": "65883259",
   "metadata": {},
   "outputs": [],
   "source": []
  },
  {
   "cell_type": "code",
   "execution_count": null,
   "id": "d1395938",
   "metadata": {},
   "outputs": [],
   "source": []
  },
  {
   "cell_type": "code",
   "execution_count": 20,
   "id": "c267728f",
   "metadata": {},
   "outputs": [],
   "source": [
    "def diff_bolt_pretension(df):\n",
    "    pret = pd.read_csv(\"../container-data/bolt_pretension.csv\", header=None)\n",
    "    pret_dict = pd.Series(pret.iloc[:,1].values, index=pret.iloc[:,0]).to_dict()\n",
    "    for y in y_cols:\n",
    "        df[y] = df[y]-pret_dict[y.strip(\"_Tensile\").replace(\"_\", \" \")]\n",
    "    return df\n",
    "\n",
    "def binarize_mode(df):\n",
    "    df[\"mode\"] = df[\"mode\"].apply(lambda x: 1 if x==\"start\" else 0)\n",
    "    return df\n",
    "\n",
    "def categorize_mode(df):\n",
    "    df[\"mode\"] = df[\"mode\"].apply(lambda x: \"start\" if x==1 else \"operation\")\n",
    "    return df\n",
    "\n",
    "def add_mode_switch(df):\n",
    "    df[\"mode_switch\"] = df[\"mode\"]-(df[\"mode\"].shift(fill_value=False))\n",
    "    return df\n",
    "\n",
    "def add_sec_since_switch(df):\n",
    "    df[\"sec_since_switch\"] = (df.groupby('mode')['datetime'].transform(lambda x: (x-x.min()).dt.seconds))\n",
    "    return df\n",
    "\n",
    "def add_days_since_start(df):\n",
    "    df[\"days_since_start\"] = (df[\"datetime\"]-start_time).dt.days\n",
    "    return df\n",
    "\n",
    "def add_rolling_sum_speed(df, periods=[60,60*5, 60*60]):\n",
    "    for period in periods:\n",
    "        df[\"Turbine_Rotational Speed_sum\"+str(period)] = df[\"Turbine_Rotational Speed\"].rolling(period, min_periods=1).sum()\n",
    "    return df\n",
    "\n",
    "def remove_cols(df):\n",
    "    remove_cols = [\"datetime\"]\n",
    "    df = df.drop(remove_cols, axis=1)\n",
    "    return df\n",
    "\n",
    "def preprocessing(df):\n",
    "    # Those that are commented out was left out as no improvement in cv score was shown\n",
    "    #df = diff_bolt_pretension(df)\n",
    "    df = binarize_mode(df)\n",
    "    df = add_mode_switch(df)\n",
    "    df = add_sec_since_switch(df)\n",
    "    df = add_days_since_start(df)\n",
    "    #df = add_rolling_sum_speed(df)\n",
    "    df = remove_cols(df)\n",
    "    df = categorize_mode(df)\n",
    "    return df\n",
    "\n",
    "def split_x_y(df):\n",
    "    X = df.drop(y_cols, axis=1)\n",
    "    y = df.loc[:, y_cols]\n",
    "    return X, y"
   ]
  },
  {
   "cell_type": "code",
   "execution_count": 21,
   "id": "f1679a0f",
   "metadata": {},
   "outputs": [],
   "source": [
    "trn_df = preprocessing(trn_df)\n",
    "df_X_train, df_y_train = split_x_y(trn_df)"
   ]
  },
  {
   "cell_type": "code",
   "execution_count": 22,
   "id": "e857745b",
   "metadata": {},
   "outputs": [],
   "source": [
    "val_df = preprocessing(val_df)\n",
    "df_X_val, df_y_val = split_x_y(val_df)"
   ]
  },
  {
   "cell_type": "code",
   "execution_count": 23,
   "id": "ce455f04",
   "metadata": {},
   "outputs": [
    {
     "data": {
      "text/plain": [
       "{'Turbine_Guide Vane Opening',\n",
       " 'Turbine_Pressure Drafttube',\n",
       " 'Turbine_Pressure Spiral Casing',\n",
       " 'Turbine_Rotational Speed',\n",
       " 'Unit_4_Power',\n",
       " 'Unit_4_Reactive Power',\n",
       " 'days_since_start',\n",
       " 'mode',\n",
       " 'mode_switch',\n",
       " 'sec_since_switch'}"
      ]
     },
     "execution_count": 23,
     "metadata": {},
     "output_type": "execute_result"
    }
   ],
   "source": [
    "x_cols = set([x for x in df_X_train.columns])-set(y_cols)\n",
    "x_cols"
   ]
  },
  {
   "cell_type": "markdown",
   "id": "9d2cec35",
   "metadata": {},
   "source": [
    "# Make column selectors"
   ]
  },
  {
   "cell_type": "code",
   "execution_count": 24,
   "id": "d8a48dc4",
   "metadata": {},
   "outputs": [],
   "source": [
    "X = df_X_train\n",
    "y = df_y_train"
   ]
  },
  {
   "cell_type": "code",
   "execution_count": 25,
   "id": "46b68320",
   "metadata": {},
   "outputs": [],
   "source": [
    "from sklearn.compose import make_column_selector"
   ]
  },
  {
   "cell_type": "code",
   "execution_count": 26,
   "id": "b8292771",
   "metadata": {},
   "outputs": [
    {
     "data": {
      "text/plain": [
       "Bolt_1_Tensile                           float64\n",
       "Bolt_2_Tensile                           float64\n",
       "Bolt_3_Tensile                           float64\n",
       "Bolt_4_Tensile                           float64\n",
       "Bolt_5_Tensile                           float64\n",
       "Bolt_6_Tensile                           float64\n",
       "Unit_4_Power                             float64\n",
       "Unit_4_Reactive Power                    float64\n",
       "Turbine_Guide Vane Opening               float64\n",
       "Turbine_Pressure Drafttube               float64\n",
       "Turbine_Pressure Spiral Casing           float64\n",
       "Turbine_Rotational Speed                 float64\n",
       "mode                                      object\n",
       "datetime                          datetime64[ns]\n",
       "dtype: object"
      ]
     },
     "execution_count": 26,
     "metadata": {},
     "output_type": "execute_result"
    }
   ],
   "source": [
    "df.dtypes"
   ]
  },
  {
   "cell_type": "code",
   "execution_count": 27,
   "id": "f20373bd",
   "metadata": {},
   "outputs": [
    {
     "data": {
      "text/plain": [
       "(['mode', 'mode_switch'],\n",
       " ['Unit_4_Power',\n",
       "  'Unit_4_Reactive Power',\n",
       "  'Turbine_Guide Vane Opening',\n",
       "  'Turbine_Pressure Drafttube',\n",
       "  'Turbine_Pressure Spiral Casing',\n",
       "  'Turbine_Rotational Speed',\n",
       "  'sec_since_switch',\n",
       "  'days_since_start'])"
      ]
     },
     "execution_count": 27,
     "metadata": {},
     "output_type": "execute_result"
    }
   ],
   "source": [
    "cat_selector = make_column_selector(dtype_include=object)\n",
    "num_selector = make_column_selector(dtype_include=np.number)\n",
    "cat_selector(X), num_selector(X)"
   ]
  },
  {
   "cell_type": "markdown",
   "id": "f4c5443e",
   "metadata": {},
   "source": [
    "# Make column transformers"
   ]
  },
  {
   "cell_type": "markdown",
   "id": "48d0277e",
   "metadata": {},
   "source": [
    "## Tree preprocessor"
   ]
  },
  {
   "cell_type": "code",
   "execution_count": 28,
   "id": "b97d078d",
   "metadata": {},
   "outputs": [
    {
     "data": {
      "text/plain": [
       "ColumnTransformer(transformers=[('simpleimputer',\n",
       "                                 SimpleImputer(add_indicator=True),\n",
       "                                 <sklearn.compose._column_transformer.make_column_selector object at 0x0000023AACDDA250>),\n",
       "                                ('ordinalencoder',\n",
       "                                 OrdinalEncoder(handle_unknown='use_encoded_value',\n",
       "                                                unknown_value=-1),\n",
       "                                 <sklearn.compose._column_transformer.make_column_selector object at 0x0000023AACDDA730>)])"
      ]
     },
     "execution_count": 28,
     "metadata": {},
     "output_type": "execute_result"
    }
   ],
   "source": [
    "from sklearn.compose import make_column_transformer\n",
    "from sklearn.impute import SimpleImputer\n",
    "from sklearn.pipeline import make_pipeline\n",
    "from sklearn.preprocessing import OrdinalEncoder\n",
    "\n",
    "cat_tree_processor = OrdinalEncoder(\n",
    "    handle_unknown=\"use_encoded_value\", unknown_value=-1\n",
    ")\n",
    "num_tree_processor = SimpleImputer(strategy=\"mean\", add_indicator=True)\n",
    "\n",
    "tree_preprocessor = make_column_transformer(\n",
    "    (num_tree_processor, num_selector), (cat_tree_processor, cat_selector)\n",
    ")\n",
    "tree_preprocessor"
   ]
  },
  {
   "cell_type": "markdown",
   "id": "2fd9d2cc",
   "metadata": {},
   "source": [
    "## Linear preprocessor"
   ]
  },
  {
   "cell_type": "code",
   "execution_count": 29,
   "id": "0dcb4df2",
   "metadata": {},
   "outputs": [
    {
     "data": {
      "text/plain": [
       "ColumnTransformer(transformers=[('pipeline',\n",
       "                                 Pipeline(steps=[('standardscaler',\n",
       "                                                  StandardScaler()),\n",
       "                                                 ('simpleimputer',\n",
       "                                                  SimpleImputer(add_indicator=True))]),\n",
       "                                 <sklearn.compose._column_transformer.make_column_selector object at 0x0000023AACDDA250>),\n",
       "                                ('onehotencoder',\n",
       "                                 OneHotEncoder(handle_unknown='ignore'),\n",
       "                                 <sklearn.compose._column_transformer.make_column_selector object at 0x0000023AACDDA730>)])"
      ]
     },
     "execution_count": 29,
     "metadata": {},
     "output_type": "execute_result"
    }
   ],
   "source": [
    "from sklearn.preprocessing import OneHotEncoder\n",
    "from sklearn.preprocessing import StandardScaler\n",
    "\n",
    "cat_linear_processor = OneHotEncoder(handle_unknown=\"ignore\")\n",
    "num_linear_processor = make_pipeline(\n",
    "    StandardScaler(), SimpleImputer(strategy=\"mean\", add_indicator=True)\n",
    ")\n",
    "\n",
    "linear_preprocessor = make_column_transformer(\n",
    "    (num_linear_processor, num_selector), (cat_linear_processor, cat_selector)\n",
    ")\n",
    "linear_preprocessor"
   ]
  },
  {
   "cell_type": "markdown",
   "id": "4ac48e21",
   "metadata": {},
   "source": [
    "# Make pipelines"
   ]
  },
  {
   "cell_type": "markdown",
   "id": "5ad58742",
   "metadata": {},
   "source": [
    "## Lasso pipeline"
   ]
  },
  {
   "cell_type": "code",
   "execution_count": 61,
   "id": "7b1511b6",
   "metadata": {},
   "outputs": [
    {
     "data": {
      "text/plain": [
       "Pipeline(steps=[('columntransformer',\n",
       "                 ColumnTransformer(transformers=[('pipeline',\n",
       "                                                  Pipeline(steps=[('standardscaler',\n",
       "                                                                   StandardScaler()),\n",
       "                                                                  ('simpleimputer',\n",
       "                                                                   SimpleImputer(add_indicator=True))]),\n",
       "                                                  <sklearn.compose._column_transformer.make_column_selector object at 0x0000023AACDDA250>),\n",
       "                                                 ('onehotencoder',\n",
       "                                                  OneHotEncoder(handle_unknown='ignore'),\n",
       "                                                  <sklearn.compose._column_transformer.make_column_selector object at 0x0000023AACDDA730>)])),\n",
       "                ('lassocv',\n",
       "                 LassoCV(cv=3, n_jobs=4, selection='random', verbose=True))])"
      ]
     },
     "execution_count": 61,
     "metadata": {},
     "output_type": "execute_result"
    }
   ],
   "source": [
    "from sklearn.linear_model import LassoCV, RidgeCV, MultiTaskLassoCV\n",
    "\n",
    "lasso_pipeline = make_pipeline(linear_preprocessor, LassoCV(n_jobs=4, cv=3, verbose=True, selection=\"random\", max_iter=1000))\n",
    "lasso_pipeline\n"
   ]
  },
  {
   "cell_type": "markdown",
   "id": "f509ec99",
   "metadata": {},
   "source": [
    "## Random forest pipeline"
   ]
  },
  {
   "cell_type": "code",
   "execution_count": 62,
   "id": "58695d55",
   "metadata": {},
   "outputs": [
    {
     "data": {
      "text/plain": [
       "Pipeline(steps=[('columntransformer',\n",
       "                 ColumnTransformer(transformers=[('simpleimputer',\n",
       "                                                  SimpleImputer(add_indicator=True),\n",
       "                                                  <sklearn.compose._column_transformer.make_column_selector object at 0x0000023AACDDA250>),\n",
       "                                                 ('ordinalencoder',\n",
       "                                                  OrdinalEncoder(handle_unknown='use_encoded_value',\n",
       "                                                                 unknown_value=-1),\n",
       "                                                  <sklearn.compose._column_transformer.make_column_selector object at 0x0000023AACDDA730>)])),\n",
       "                ('randomforestregressor',\n",
       "                 RandomForestRegressor(n_estimators=3, n_jobs=6,\n",
       "                                       random_state=42))])"
      ]
     },
     "execution_count": 62,
     "metadata": {},
     "output_type": "execute_result"
    }
   ],
   "source": [
    "from sklearn.ensemble import RandomForestRegressor\n",
    "\n",
    "rf_pipeline = make_pipeline(tree_preprocessor, RandomForestRegressor(n_estimators=3, n_jobs=6, random_state=42))\n",
    "rf_pipeline"
   ]
  },
  {
   "cell_type": "markdown",
   "id": "11d18c3f",
   "metadata": {},
   "source": [
    "# Stacking regressor  "
   ]
  },
  {
   "cell_type": "code",
   "execution_count": 64,
   "id": "60df4de6",
   "metadata": {},
   "outputs": [
    {
     "data": {
      "text/plain": [
       "StackingRegressor(estimators=[('Lasso',\n",
       "                               Pipeline(steps=[('columntransformer',\n",
       "                                                ColumnTransformer(transformers=[('pipeline',\n",
       "                                                                                 Pipeline(steps=[('standardscaler',\n",
       "                                                                                                  StandardScaler()),\n",
       "                                                                                                 ('simpleimputer',\n",
       "                                                                                                  SimpleImputer(add_indicator=True))]),\n",
       "                                                                                 <sklearn.compose._column_transformer.make_column_selector object at 0x0000023AACDDA250>),\n",
       "                                                                                ('onehotencoder',\n",
       "                                                                                 OneHotEncoder(handle_...\n",
       "                                                                                                unknown_value=-1),\n",
       "                                                                                 <sklearn.compose._column_transformer.make_column_selector object at 0x0000023AACDDA730>)])),\n",
       "                                               ('randomforestregressor',\n",
       "                                                RandomForestRegressor(n_estimators=3,\n",
       "                                                                      n_jobs=6,\n",
       "                                                                      random_state=42))]))],\n",
       "                  final_estimator=RidgeCV(alphas=array([ 0.1,  1. , 10. ]),\n",
       "                                          cv=KFold(n_splits=3, random_state=None, shuffle=False),\n",
       "                                          scoring='neg_mean_absolute_percentage_error'))"
      ]
     },
     "execution_count": 64,
     "metadata": {},
     "output_type": "execute_result"
    }
   ],
   "source": [
    "from sklearn.ensemble import StackingRegressor\n",
    "from sklearn.linear_model import RidgeCV\n",
    "\n",
    "estimators = [\n",
    "    (\"Lasso\", lasso_pipeline),\n",
    "    (\"Random Forest\", rf_pipeline),\n",
    "]\n",
    "\n",
    "stacking_regressor = StackingRegressor(estimators=estimators, final_estimator=RidgeCV(cv=KFold(n_splits=3, shuffle=False), scoring=\"neg_mean_absolute_percentage_error\"))\n",
    "stacking_regressor"
   ]
  },
  {
   "cell_type": "markdown",
   "id": "e8faad1e",
   "metadata": {},
   "source": [
    "# Cross-validation"
   ]
  },
  {
   "cell_type": "code",
   "execution_count": 39,
   "id": "9e77f79c",
   "metadata": {
    "scrolled": true
   },
   "outputs": [
    {
     "name": "stdout",
     "output_type": "stream",
     "text": [
      "1\n",
      "Bolt_1_Tensile\n",
      "['Bolt_2_Tensile', 'Bolt_3_Tensile', 'Bolt_4_Tensile', 'Bolt_5_Tensile', 'Bolt_6_Tensile']\n",
      "Lasso\n"
     ]
    },
    {
     "name": "stderr",
     "output_type": "stream",
     "text": [
      "[Parallel(n_jobs=4)]: Using backend ThreadingBackend with 4 concurrent workers.\n",
      "............................................................................................................................................................................................................................................................................................................[Parallel(n_jobs=4)]: Done   3 out of   3 | elapsed:    6.5s finished\n"
     ]
    },
    {
     "name": "stdout",
     "output_type": "stream",
     "text": [
      "[0.0004125]\n",
      "Bolt_2_Tensile\n",
      "['Bolt_1_Tensile', 'Bolt_3_Tensile', 'Bolt_4_Tensile', 'Bolt_5_Tensile', 'Bolt_6_Tensile']\n",
      "Lasso\n"
     ]
    },
    {
     "name": "stderr",
     "output_type": "stream",
     "text": [
      "[Parallel(n_jobs=4)]: Using backend ThreadingBackend with 4 concurrent workers.\n",
      "............................................................................................................................................................................................................................................................................................................[Parallel(n_jobs=4)]: Done   3 out of   3 | elapsed:    6.8s finished\n"
     ]
    },
    {
     "name": "stdout",
     "output_type": "stream",
     "text": [
      "[0.00047392]\n",
      "Bolt_3_Tensile\n",
      "['Bolt_1_Tensile', 'Bolt_2_Tensile', 'Bolt_4_Tensile', 'Bolt_5_Tensile', 'Bolt_6_Tensile']\n",
      "Lasso\n"
     ]
    },
    {
     "name": "stderr",
     "output_type": "stream",
     "text": [
      "[Parallel(n_jobs=4)]: Using backend ThreadingBackend with 4 concurrent workers.\n",
      "............................................................................................................................................................................................................................................................................................................[Parallel(n_jobs=4)]: Done   3 out of   3 | elapsed:    6.9s finished\n"
     ]
    },
    {
     "name": "stdout",
     "output_type": "stream",
     "text": [
      "[0.00035049]\n",
      "Bolt_4_Tensile\n",
      "['Bolt_1_Tensile', 'Bolt_2_Tensile', 'Bolt_3_Tensile', 'Bolt_5_Tensile', 'Bolt_6_Tensile']\n",
      "Lasso\n"
     ]
    },
    {
     "name": "stderr",
     "output_type": "stream",
     "text": [
      "[Parallel(n_jobs=4)]: Using backend ThreadingBackend with 4 concurrent workers.\n",
      "................................................................................................................................................................................C:\\Users\\tthoresen\\Anaconda3\\lib\\site-packages\\sklearn\\linear_model\\_coordinate_descent.py:526: ConvergenceWarning: Objective did not converge. You might want to increase the number of iterations. Duality gap: 323.8006538125919, tolerance: 256.8895396989365\n",
      "  model = cd_fast.enet_coordinate_descent_gram(\n",
      "...C:\\Users\\tthoresen\\Anaconda3\\lib\\site-packages\\sklearn\\linear_model\\_coordinate_descent.py:526: ConvergenceWarning: Objective did not converge. You might want to increase the number of iterations. Duality gap: 439.36231541697634, tolerance: 256.8895396989365\n",
      "  model = cd_fast.enet_coordinate_descent_gram(\n",
      "...C:\\Users\\tthoresen\\Anaconda3\\lib\\site-packages\\sklearn\\linear_model\\_coordinate_descent.py:526: ConvergenceWarning: Objective did not converge. You might want to increase the number of iterations. Duality gap: 425.5783058129018, tolerance: 256.8895396989365\n",
      "  model = cd_fast.enet_coordinate_descent_gram(\n",
      "......................................................................................................................[Parallel(n_jobs=4)]: Done   3 out of   3 | elapsed:    6.9s finished\n"
     ]
    },
    {
     "name": "stdout",
     "output_type": "stream",
     "text": [
      "[0.0004908]\n",
      "Bolt_5_Tensile\n",
      "['Bolt_1_Tensile', 'Bolt_2_Tensile', 'Bolt_3_Tensile', 'Bolt_4_Tensile', 'Bolt_6_Tensile']\n",
      "Lasso\n"
     ]
    },
    {
     "name": "stderr",
     "output_type": "stream",
     "text": [
      "[Parallel(n_jobs=4)]: Using backend ThreadingBackend with 4 concurrent workers.\n",
      ".............................................................................................................................................................C:\\Users\\tthoresen\\Anaconda3\\lib\\site-packages\\sklearn\\linear_model\\_coordinate_descent.py:526: ConvergenceWarning: Objective did not converge. You might want to increase the number of iterations. Duality gap: 627.7335307098692, tolerance: 221.92910231064747\n",
      "  model = cd_fast.enet_coordinate_descent_gram(\n",
      ".....C:\\Users\\tthoresen\\Anaconda3\\lib\\site-packages\\sklearn\\linear_model\\_coordinate_descent.py:526: ConvergenceWarning: Objective did not converge. You might want to increase the number of iterations. Duality gap: 402.8926163915312, tolerance: 221.92910231064747\n",
      "  model = cd_fast.enet_coordinate_descent_gram(\n",
      "...C:\\Users\\tthoresen\\Anaconda3\\lib\\site-packages\\sklearn\\linear_model\\_coordinate_descent.py:526: ConvergenceWarning: Objective did not converge. You might want to increase the number of iterations. Duality gap: 348.45152777899057, tolerance: 221.92910231064747\n",
      "  model = cd_fast.enet_coordinate_descent_gram(\n",
      ".............................................................................................C:\\Users\\tthoresen\\Anaconda3\\lib\\site-packages\\sklearn\\linear_model\\_coordinate_descent.py:526: ConvergenceWarning: Objective did not converge. You might want to increase the number of iterations. Duality gap: 1091.1263591657626, tolerance: 349.5483834502879\n",
      "  model = cd_fast.enet_coordinate_descent_gram(\n",
      "...C:\\Users\\tthoresen\\Anaconda3\\lib\\site-packages\\sklearn\\linear_model\\_coordinate_descent.py:526: ConvergenceWarning: Objective did not converge. You might want to increase the number of iterations. Duality gap: 737.0001704411115, tolerance: 349.5483834502879\n",
      "  model = cd_fast.enet_coordinate_descent_gram(\n",
      "..C:\\Users\\tthoresen\\Anaconda3\\lib\\site-packages\\sklearn\\linear_model\\_coordinate_descent.py:526: ConvergenceWarning: Objective did not converge. You might want to increase the number of iterations. Duality gap: 1378.1108016395592, tolerance: 349.5483834502879\n",
      "  model = cd_fast.enet_coordinate_descent_gram(\n",
      "...C:\\Users\\tthoresen\\Anaconda3\\lib\\site-packages\\sklearn\\linear_model\\_coordinate_descent.py:526: ConvergenceWarning: Objective did not converge. You might want to increase the number of iterations. Duality gap: 1093.3380738739506, tolerance: 349.5483834502879\n",
      "  model = cd_fast.enet_coordinate_descent_gram(\n",
      "..C:\\Users\\tthoresen\\Anaconda3\\lib\\site-packages\\sklearn\\linear_model\\_coordinate_descent.py:526: ConvergenceWarning: Objective did not converge. You might want to increase the number of iterations. Duality gap: 1615.3027994685108, tolerance: 349.5483834502879\n",
      "  model = cd_fast.enet_coordinate_descent_gram(\n",
      "..C:\\Users\\tthoresen\\Anaconda3\\lib\\site-packages\\sklearn\\linear_model\\_coordinate_descent.py:526: ConvergenceWarning: Objective did not converge. You might want to increase the number of iterations. Duality gap: 1701.5909511581995, tolerance: 349.5483834502879\n",
      "  model = cd_fast.enet_coordinate_descent_gram(\n",
      "..C:\\Users\\tthoresen\\Anaconda3\\lib\\site-packages\\sklearn\\linear_model\\_coordinate_descent.py:526: ConvergenceWarning: Objective did not converge. You might want to increase the number of iterations. Duality gap: 1124.4090868076892, tolerance: 349.5483834502879\n",
      "  model = cd_fast.enet_coordinate_descent_gram(\n",
      "..C:\\Users\\tthoresen\\Anaconda3\\lib\\site-packages\\sklearn\\linear_model\\_coordinate_descent.py:526: ConvergenceWarning: Objective did not converge. You might want to increase the number of iterations. Duality gap: 638.8974138778867, tolerance: 349.5483834502879\n",
      "  model = cd_fast.enet_coordinate_descent_gram(\n",
      "..C:\\Users\\tthoresen\\Anaconda3\\lib\\site-packages\\sklearn\\linear_model\\_coordinate_descent.py:526: ConvergenceWarning: Objective did not converge. You might want to increase the number of iterations. Duality gap: 583.9266824699589, tolerance: 349.5483834502879\n",
      "  model = cd_fast.enet_coordinate_descent_gram(\n",
      "...C:\\Users\\tthoresen\\Anaconda3\\lib\\site-packages\\sklearn\\linear_model\\_coordinate_descent.py:526: ConvergenceWarning: Objective did not converge. You might want to increase the number of iterations. Duality gap: 876.3778368331259, tolerance: 349.5483834502879\n",
      "  model = cd_fast.enet_coordinate_descent_gram(\n",
      "..C:\\Users\\tthoresen\\Anaconda3\\lib\\site-packages\\sklearn\\linear_model\\_coordinate_descent.py:526: ConvergenceWarning: Objective did not converge. You might want to increase the number of iterations. Duality gap: 657.3684137759265, tolerance: 349.5483834502879\n",
      "  model = cd_fast.enet_coordinate_descent_gram(\n",
      "..C:\\Users\\tthoresen\\Anaconda3\\lib\\site-packages\\sklearn\\linear_model\\_coordinate_descent.py:526: ConvergenceWarning: Objective did not converge. You might want to increase the number of iterations. Duality gap: 904.1524570719339, tolerance: 349.5483834502879\n",
      "  model = cd_fast.enet_coordinate_descent_gram(\n",
      "..C:\\Users\\tthoresen\\Anaconda3\\lib\\site-packages\\sklearn\\linear_model\\_coordinate_descent.py:526: ConvergenceWarning: Objective did not converge. You might want to increase the number of iterations. Duality gap: 514.796136106248, tolerance: 349.5483834502879\n",
      "  model = cd_fast.enet_coordinate_descent_gram(\n",
      "..C:\\Users\\tthoresen\\Anaconda3\\lib\\site-packages\\sklearn\\linear_model\\_coordinate_descent.py:526: ConvergenceWarning: Objective did not converge. You might want to increase the number of iterations. Duality gap: 1356.1726106575807, tolerance: 349.5483834502879\n",
      "  model = cd_fast.enet_coordinate_descent_gram(\n",
      ".C:\\Users\\tthoresen\\Anaconda3\\lib\\site-packages\\sklearn\\linear_model\\_coordinate_descent.py:526: ConvergenceWarning: Objective did not converge. You might want to increase the number of iterations. Duality gap: 656.7547865612432, tolerance: 221.92910231064747\n",
      "  model = cd_fast.enet_coordinate_descent_gram(\n",
      ".C:\\Users\\tthoresen\\Anaconda3\\lib\\site-packages\\sklearn\\linear_model\\_coordinate_descent.py:526: ConvergenceWarning: Objective did not converge. You might want to increase the number of iterations. Duality gap: 725.1426996747032, tolerance: 349.5483834502879\n",
      "  model = cd_fast.enet_coordinate_descent_gram(\n",
      ".C:\\Users\\tthoresen\\Anaconda3\\lib\\site-packages\\sklearn\\linear_model\\_coordinate_descent.py:526: ConvergenceWarning: Objective did not converge. You might want to increase the number of iterations. Duality gap: 974.9449231140316, tolerance: 221.92910231064747\n",
      "  model = cd_fast.enet_coordinate_descent_gram(\n",
      ".C:\\Users\\tthoresen\\Anaconda3\\lib\\site-packages\\sklearn\\linear_model\\_coordinate_descent.py:526: ConvergenceWarning: Objective did not converge. You might want to increase the number of iterations. Duality gap: 1122.269956006552, tolerance: 349.5483834502879\n",
      "  model = cd_fast.enet_coordinate_descent_gram(\n",
      ".C:\\Users\\tthoresen\\Anaconda3\\lib\\site-packages\\sklearn\\linear_model\\_coordinate_descent.py:526: ConvergenceWarning: Objective did not converge. You might want to increase the number of iterations. Duality gap: 1384.0621626691427, tolerance: 221.92910231064747\n",
      "  model = cd_fast.enet_coordinate_descent_gram(\n",
      ".C:\\Users\\tthoresen\\Anaconda3\\lib\\site-packages\\sklearn\\linear_model\\_coordinate_descent.py:526: ConvergenceWarning: Objective did not converge. You might want to increase the number of iterations. Duality gap: 1280.1081439522095, tolerance: 349.5483834502879\n",
      "  model = cd_fast.enet_coordinate_descent_gram(\n",
      ".C:\\Users\\tthoresen\\Anaconda3\\lib\\site-packages\\sklearn\\linear_model\\_coordinate_descent.py:526: ConvergenceWarning: Objective did not converge. You might want to increase the number of iterations. Duality gap: 878.7855940175941, tolerance: 221.92910231064747\n",
      "  model = cd_fast.enet_coordinate_descent_gram(\n",
      ".C:\\Users\\tthoresen\\Anaconda3\\lib\\site-packages\\sklearn\\linear_model\\_coordinate_descent.py:526: ConvergenceWarning: Objective did not converge. You might want to increase the number of iterations. Duality gap: 896.7883438586723, tolerance: 349.5483834502879\n",
      "  model = cd_fast.enet_coordinate_descent_gram(\n",
      ".C:\\Users\\tthoresen\\Anaconda3\\lib\\site-packages\\sklearn\\linear_model\\_coordinate_descent.py:526: ConvergenceWarning: Objective did not converge. You might want to increase the number of iterations. Duality gap: 1411.3652672743774, tolerance: 221.92910231064747\n",
      "  model = cd_fast.enet_coordinate_descent_gram(\n",
      "..C:\\Users\\tthoresen\\Anaconda3\\lib\\site-packages\\sklearn\\linear_model\\_coordinate_descent.py:526: ConvergenceWarning: Objective did not converge. You might want to increase the number of iterations. Duality gap: 439.2379436404444, tolerance: 349.5483834502879\n",
      "  model = cd_fast.enet_coordinate_descent_gram(\n",
      ".C:\\Users\\tthoresen\\Anaconda3\\lib\\site-packages\\sklearn\\linear_model\\_coordinate_descent.py:526: ConvergenceWarning: Objective did not converge. You might want to increase the number of iterations. Duality gap: 441.3318212435115, tolerance: 349.5483834502879\n",
      "  model = cd_fast.enet_coordinate_descent_gram(\n"
     ]
    },
    {
     "name": "stderr",
     "output_type": "stream",
     "text": [
      ".[Parallel(n_jobs=4)]: Done   3 out of   3 | elapsed:    7.1s finished\n"
     ]
    },
    {
     "name": "stdout",
     "output_type": "stream",
     "text": [
      "[0.00049964]\n",
      "Bolt_6_Tensile\n",
      "['Bolt_1_Tensile', 'Bolt_2_Tensile', 'Bolt_3_Tensile', 'Bolt_4_Tensile', 'Bolt_5_Tensile']\n",
      "Lasso\n"
     ]
    },
    {
     "name": "stderr",
     "output_type": "stream",
     "text": [
      "[Parallel(n_jobs=4)]: Using backend ThreadingBackend with 4 concurrent workers.\n",
      "............................................................................................................................................................................................................................................................................................................[Parallel(n_jobs=4)]: Done   3 out of   3 | elapsed:    7.3s finished\n"
     ]
    },
    {
     "name": "stdout",
     "output_type": "stream",
     "text": [
      "[0.00042319]\n",
      "2\n",
      "Bolt_1_Tensile\n",
      "['Bolt_2_Tensile', 'Bolt_3_Tensile', 'Bolt_4_Tensile', 'Bolt_5_Tensile', 'Bolt_6_Tensile']\n",
      "Lasso\n"
     ]
    },
    {
     "name": "stderr",
     "output_type": "stream",
     "text": [
      "[Parallel(n_jobs=4)]: Using backend ThreadingBackend with 4 concurrent workers.\n",
      "............................................................................................................................................................................................................................................................................................................[Parallel(n_jobs=4)]: Done   3 out of   3 | elapsed:    7.2s finished\n"
     ]
    },
    {
     "name": "stdout",
     "output_type": "stream",
     "text": [
      "[0.00041253]\n",
      "Bolt_2_Tensile\n",
      "['Bolt_1_Tensile', 'Bolt_3_Tensile', 'Bolt_4_Tensile', 'Bolt_5_Tensile', 'Bolt_6_Tensile']\n",
      "Lasso\n"
     ]
    },
    {
     "name": "stderr",
     "output_type": "stream",
     "text": [
      "[Parallel(n_jobs=4)]: Using backend ThreadingBackend with 4 concurrent workers.\n",
      "............................................................................................................................................................................................................................................................................................................[Parallel(n_jobs=4)]: Done   3 out of   3 | elapsed:    7.6s finished\n"
     ]
    },
    {
     "name": "stdout",
     "output_type": "stream",
     "text": [
      "[0.00047372]\n",
      "Bolt_3_Tensile\n",
      "['Bolt_1_Tensile', 'Bolt_2_Tensile', 'Bolt_4_Tensile', 'Bolt_5_Tensile', 'Bolt_6_Tensile']\n",
      "Lasso\n"
     ]
    },
    {
     "name": "stderr",
     "output_type": "stream",
     "text": [
      "[Parallel(n_jobs=4)]: Using backend ThreadingBackend with 4 concurrent workers.\n",
      "............................................................................................................................................................................................................................................................................................................[Parallel(n_jobs=4)]: Done   3 out of   3 | elapsed:    7.2s finished\n"
     ]
    },
    {
     "name": "stdout",
     "output_type": "stream",
     "text": [
      "[0.0003485]\n",
      "Bolt_4_Tensile\n",
      "['Bolt_1_Tensile', 'Bolt_2_Tensile', 'Bolt_3_Tensile', 'Bolt_5_Tensile', 'Bolt_6_Tensile']\n",
      "Lasso\n"
     ]
    },
    {
     "name": "stderr",
     "output_type": "stream",
     "text": [
      "[Parallel(n_jobs=4)]: Using backend ThreadingBackend with 4 concurrent workers.\n",
      "..................................................................................................................................................................................................C:\\Users\\tthoresen\\Anaconda3\\lib\\site-packages\\sklearn\\linear_model\\_coordinate_descent.py:526: ConvergenceWarning: Objective did not converge. You might want to increase the number of iterations. Duality gap: 413.83511227939744, tolerance: 262.58676954581614\n",
      "  model = cd_fast.enet_coordinate_descent_gram(\n",
      ".....C:\\Users\\tthoresen\\Anaconda3\\lib\\site-packages\\sklearn\\linear_model\\_coordinate_descent.py:526: ConvergenceWarning: Objective did not converge. You might want to increase the number of iterations. Duality gap: 278.6138927329448, tolerance: 262.58676954581614\n",
      "  model = cd_fast.enet_coordinate_descent_gram(\n",
      ".....................................................................................................[Parallel(n_jobs=4)]: Done   3 out of   3 | elapsed:    7.3s finished\n"
     ]
    },
    {
     "name": "stdout",
     "output_type": "stream",
     "text": [
      "[0.00048929]\n",
      "Bolt_5_Tensile\n",
      "['Bolt_1_Tensile', 'Bolt_2_Tensile', 'Bolt_3_Tensile', 'Bolt_4_Tensile', 'Bolt_6_Tensile']\n",
      "Lasso\n"
     ]
    },
    {
     "name": "stderr",
     "output_type": "stream",
     "text": [
      "[Parallel(n_jobs=4)]: Using backend ThreadingBackend with 4 concurrent workers.\n",
      "........................................................................................................................................................C:\\Users\\tthoresen\\Anaconda3\\lib\\site-packages\\sklearn\\linear_model\\_coordinate_descent.py:526: ConvergenceWarning: Objective did not converge. You might want to increase the number of iterations. Duality gap: 342.362433149945, tolerance: 226.5351252952473\n",
      "  model = cd_fast.enet_coordinate_descent_gram(\n",
      "...C:\\Users\\tthoresen\\Anaconda3\\lib\\site-packages\\sklearn\\linear_model\\_coordinate_descent.py:526: ConvergenceWarning: Objective did not converge. You might want to increase the number of iterations. Duality gap: 626.1115491364617, tolerance: 226.5351252952473\n",
      "  model = cd_fast.enet_coordinate_descent_gram(\n",
      "...C:\\Users\\tthoresen\\Anaconda3\\lib\\site-packages\\sklearn\\linear_model\\_coordinate_descent.py:526: ConvergenceWarning: Objective did not converge. You might want to increase the number of iterations. Duality gap: 423.43841359729413, tolerance: 226.5351252952473\n",
      "  model = cd_fast.enet_coordinate_descent_gram(\n",
      "..............C:\\Users\\tthoresen\\Anaconda3\\lib\\site-packages\\sklearn\\linear_model\\_coordinate_descent.py:526: ConvergenceWarning: Objective did not converge. You might want to increase the number of iterations. Duality gap: 1089.40711315698, tolerance: 355.070002282105\n",
      "  model = cd_fast.enet_coordinate_descent_gram(\n",
      "...C:\\Users\\tthoresen\\Anaconda3\\lib\\site-packages\\sklearn\\linear_model\\_coordinate_descent.py:526: ConvergenceWarning: Objective did not converge. You might want to increase the number of iterations. Duality gap: 1522.3104872975964, tolerance: 355.070002282105\n",
      "  model = cd_fast.enet_coordinate_descent_gram(\n",
      "...C:\\Users\\tthoresen\\Anaconda3\\lib\\site-packages\\sklearn\\linear_model\\_coordinate_descent.py:526: ConvergenceWarning: Objective did not converge. You might want to increase the number of iterations. Duality gap: 926.2101817900548, tolerance: 355.070002282105\n",
      "  model = cd_fast.enet_coordinate_descent_gram(\n",
      "...C:\\Users\\tthoresen\\Anaconda3\\lib\\site-packages\\sklearn\\linear_model\\_coordinate_descent.py:526: ConvergenceWarning: Objective did not converge. You might want to increase the number of iterations. Duality gap: 800.4298875717213, tolerance: 355.070002282105\n",
      "  model = cd_fast.enet_coordinate_descent_gram(\n",
      "...C:\\Users\\tthoresen\\Anaconda3\\lib\\site-packages\\sklearn\\linear_model\\_coordinate_descent.py:526: ConvergenceWarning: Objective did not converge. You might want to increase the number of iterations. Duality gap: 743.712662747479, tolerance: 355.070002282105\n",
      "  model = cd_fast.enet_coordinate_descent_gram(\n",
      "..C:\\Users\\tthoresen\\Anaconda3\\lib\\site-packages\\sklearn\\linear_model\\_coordinate_descent.py:526: ConvergenceWarning: Objective did not converge. You might want to increase the number of iterations. Duality gap: 1829.6790637644008, tolerance: 355.070002282105\n",
      "  model = cd_fast.enet_coordinate_descent_gram(\n",
      "...C:\\Users\\tthoresen\\Anaconda3\\lib\\site-packages\\sklearn\\linear_model\\_coordinate_descent.py:526: ConvergenceWarning: Objective did not converge. You might want to increase the number of iterations. Duality gap: 599.6850285521941, tolerance: 355.070002282105\n",
      "  model = cd_fast.enet_coordinate_descent_gram(\n",
      "..C:\\Users\\tthoresen\\Anaconda3\\lib\\site-packages\\sklearn\\linear_model\\_coordinate_descent.py:526: ConvergenceWarning: Objective did not converge. You might want to increase the number of iterations. Duality gap: 1427.9428219724214, tolerance: 355.070002282105\n",
      "  model = cd_fast.enet_coordinate_descent_gram(\n",
      "...C:\\Users\\tthoresen\\Anaconda3\\lib\\site-packages\\sklearn\\linear_model\\_coordinate_descent.py:526: ConvergenceWarning: Objective did not converge. You might want to increase the number of iterations. Duality gap: 1588.0791622966062, tolerance: 355.070002282105\n",
      "  model = cd_fast.enet_coordinate_descent_gram(\n",
      "...C:\\Users\\tthoresen\\Anaconda3\\lib\\site-packages\\sklearn\\linear_model\\_coordinate_descent.py:526: ConvergenceWarning: Objective did not converge. You might want to increase the number of iterations. Duality gap: 816.9245066570002, tolerance: 355.070002282105\n",
      "  model = cd_fast.enet_coordinate_descent_gram(\n",
      "..C:\\Users\\tthoresen\\Anaconda3\\lib\\site-packages\\sklearn\\linear_model\\_coordinate_descent.py:526: ConvergenceWarning: Objective did not converge. You might want to increase the number of iterations. Duality gap: 1247.2304166372633, tolerance: 355.070002282105\n",
      "  model = cd_fast.enet_coordinate_descent_gram(\n",
      "...C:\\Users\\tthoresen\\Anaconda3\\lib\\site-packages\\sklearn\\linear_model\\_coordinate_descent.py:526: ConvergenceWarning: Objective did not converge. You might want to increase the number of iterations. Duality gap: 1533.326637574588, tolerance: 355.070002282105\n",
      "  model = cd_fast.enet_coordinate_descent_gram(\n",
      "...C:\\Users\\tthoresen\\Anaconda3\\lib\\site-packages\\sklearn\\linear_model\\_coordinate_descent.py:526: ConvergenceWarning: Objective did not converge. You might want to increase the number of iterations. Duality gap: 886.4966725563863, tolerance: 355.070002282105\n",
      "  model = cd_fast.enet_coordinate_descent_gram(\n",
      "...C:\\Users\\tthoresen\\Anaconda3\\lib\\site-packages\\sklearn\\linear_model\\_coordinate_descent.py:526: ConvergenceWarning: Objective did not converge. You might want to increase the number of iterations. Duality gap: 878.0311044262489, tolerance: 355.070002282105\n",
      "  model = cd_fast.enet_coordinate_descent_gram(\n",
      "...C:\\Users\\tthoresen\\Anaconda3\\lib\\site-packages\\sklearn\\linear_model\\_coordinate_descent.py:526: ConvergenceWarning: Objective did not converge. You might want to increase the number of iterations. Duality gap: 440.19806265010266, tolerance: 355.070002282105\n",
      "  model = cd_fast.enet_coordinate_descent_gram(\n",
      "...C:\\Users\\tthoresen\\Anaconda3\\lib\\site-packages\\sklearn\\linear_model\\_coordinate_descent.py:526: ConvergenceWarning: Objective did not converge. You might want to increase the number of iterations. Duality gap: 834.1475484762923, tolerance: 355.070002282105\n",
      "  model = cd_fast.enet_coordinate_descent_gram(\n",
      "...C:\\Users\\tthoresen\\Anaconda3\\lib\\site-packages\\sklearn\\linear_model\\_coordinate_descent.py:526: ConvergenceWarning: Objective did not converge. You might want to increase the number of iterations. Duality gap: 1232.076699100784, tolerance: 355.070002282105\n",
      "  model = cd_fast.enet_coordinate_descent_gram(\n",
      "...C:\\Users\\tthoresen\\Anaconda3\\lib\\site-packages\\sklearn\\linear_model\\_coordinate_descent.py:526: ConvergenceWarning: Objective did not converge. You might want to increase the number of iterations. Duality gap: 954.0829229784431, tolerance: 355.070002282105\n",
      "  model = cd_fast.enet_coordinate_descent_gram(\n",
      "..C:\\Users\\tthoresen\\Anaconda3\\lib\\site-packages\\sklearn\\linear_model\\_coordinate_descent.py:526: ConvergenceWarning: Objective did not converge. You might want to increase the number of iterations. Duality gap: 396.6107453129953, tolerance: 355.070002282105\n",
      "  model = cd_fast.enet_coordinate_descent_gram(\n",
      ".....................................................................C:\\Users\\tthoresen\\Anaconda3\\lib\\site-packages\\sklearn\\linear_model\\_coordinate_descent.py:526: ConvergenceWarning: Objective did not converge. You might want to increase the number of iterations. Duality gap: 1123.9265710744075, tolerance: 226.5351252952473\n",
      "  model = cd_fast.enet_coordinate_descent_gram(\n",
      "..C:\\Users\\tthoresen\\Anaconda3\\lib\\site-packages\\sklearn\\linear_model\\_coordinate_descent.py:526: ConvergenceWarning: Objective did not converge. You might want to increase the number of iterations. Duality gap: 649.0454445185605, tolerance: 226.5351252952473\n",
      "  model = cd_fast.enet_coordinate_descent_gram(\n",
      "...C:\\Users\\tthoresen\\Anaconda3\\lib\\site-packages\\sklearn\\linear_model\\_coordinate_descent.py:526: ConvergenceWarning: Objective did not converge. You might want to increase the number of iterations. Duality gap: 860.5983685420942, tolerance: 226.5351252952473\n",
      "  model = cd_fast.enet_coordinate_descent_gram(\n",
      "..C:\\Users\\tthoresen\\Anaconda3\\lib\\site-packages\\sklearn\\linear_model\\_coordinate_descent.py:526: ConvergenceWarning: Objective did not converge. You might want to increase the number of iterations. Duality gap: 1474.522257276054, tolerance: 226.5351252952473\n",
      "  model = cd_fast.enet_coordinate_descent_gram(\n",
      ".C:\\Users\\tthoresen\\Anaconda3\\lib\\site-packages\\sklearn\\linear_model\\_coordinate_descent.py:526: ConvergenceWarning: Objective did not converge. You might want to increase the number of iterations. Duality gap: 1377.5734655054985, tolerance: 226.5351252952473\n",
      "  model = cd_fast.enet_coordinate_descent_gram(\n"
     ]
    },
    {
     "name": "stderr",
     "output_type": "stream",
     "text": [
      ".[Parallel(n_jobs=4)]: Done   3 out of   3 | elapsed:    7.1s finished\n"
     ]
    },
    {
     "name": "stdout",
     "output_type": "stream",
     "text": [
      "[0.00049812]\n",
      "Bolt_6_Tensile\n",
      "['Bolt_1_Tensile', 'Bolt_2_Tensile', 'Bolt_3_Tensile', 'Bolt_4_Tensile', 'Bolt_5_Tensile']\n",
      "Lasso\n"
     ]
    },
    {
     "name": "stderr",
     "output_type": "stream",
     "text": [
      "[Parallel(n_jobs=4)]: Using backend ThreadingBackend with 4 concurrent workers.\n",
      "............................................................................................................................................................................................................................................................................................................[Parallel(n_jobs=4)]: Done   3 out of   3 | elapsed:    7.1s finished\n"
     ]
    },
    {
     "name": "stdout",
     "output_type": "stream",
     "text": [
      "[0.00042304]\n",
      "3\n",
      "Bolt_1_Tensile\n",
      "['Bolt_2_Tensile', 'Bolt_3_Tensile', 'Bolt_4_Tensile', 'Bolt_5_Tensile', 'Bolt_6_Tensile']\n",
      "Lasso\n"
     ]
    },
    {
     "name": "stderr",
     "output_type": "stream",
     "text": [
      "[Parallel(n_jobs=4)]: Using backend ThreadingBackend with 4 concurrent workers.\n",
      "............................................................................................................................................................................................................................................................................................................[Parallel(n_jobs=4)]: Done   3 out of   3 | elapsed:    7.5s finished\n"
     ]
    },
    {
     "name": "stdout",
     "output_type": "stream",
     "text": [
      "[0.00041282]\n",
      "Bolt_2_Tensile\n",
      "['Bolt_1_Tensile', 'Bolt_3_Tensile', 'Bolt_4_Tensile', 'Bolt_5_Tensile', 'Bolt_6_Tensile']\n",
      "Lasso\n"
     ]
    },
    {
     "name": "stderr",
     "output_type": "stream",
     "text": [
      "[Parallel(n_jobs=4)]: Using backend ThreadingBackend with 4 concurrent workers.\n",
      "............................................................................................................................................................................................................................................................................................................[Parallel(n_jobs=4)]: Done   3 out of   3 | elapsed:    7.1s finished\n"
     ]
    },
    {
     "name": "stdout",
     "output_type": "stream",
     "text": [
      "[0.00047573]\n",
      "Bolt_3_Tensile\n",
      "['Bolt_1_Tensile', 'Bolt_2_Tensile', 'Bolt_4_Tensile', 'Bolt_5_Tensile', 'Bolt_6_Tensile']\n",
      "Lasso\n"
     ]
    },
    {
     "name": "stderr",
     "output_type": "stream",
     "text": [
      "[Parallel(n_jobs=4)]: Using backend ThreadingBackend with 4 concurrent workers.\n",
      "............................................................................................................................................................................................................................................................................................................[Parallel(n_jobs=4)]: Done   3 out of   3 | elapsed:    6.4s finished\n"
     ]
    },
    {
     "name": "stdout",
     "output_type": "stream",
     "text": [
      "[0.00034876]\n",
      "Bolt_4_Tensile\n",
      "['Bolt_1_Tensile', 'Bolt_2_Tensile', 'Bolt_3_Tensile', 'Bolt_5_Tensile', 'Bolt_6_Tensile']\n",
      "Lasso\n"
     ]
    },
    {
     "name": "stderr",
     "output_type": "stream",
     "text": [
      "[Parallel(n_jobs=4)]: Using backend ThreadingBackend with 4 concurrent workers.\n",
      ".....................................................................................................................................................................C:\\Users\\tthoresen\\Anaconda3\\lib\\site-packages\\sklearn\\linear_model\\_coordinate_descent.py:526: ConvergenceWarning: Objective did not converge. You might want to increase the number of iterations. Duality gap: 457.5705196723575, tolerance: 257.60742354633595\n",
      "  model = cd_fast.enet_coordinate_descent_gram(\n",
      ".....C:\\Users\\tthoresen\\Anaconda3\\lib\\site-packages\\sklearn\\linear_model\\_coordinate_descent.py:526: ConvergenceWarning: Objective did not converge. You might want to increase the number of iterations. Duality gap: 371.363091428997, tolerance: 257.60742354633595\n",
      "  model = cd_fast.enet_coordinate_descent_gram(\n",
      "...C:\\Users\\tthoresen\\Anaconda3\\lib\\site-packages\\sklearn\\linear_model\\_coordinate_descent.py:526: ConvergenceWarning: Objective did not converge. You might want to increase the number of iterations. Duality gap: 314.74621160974493, tolerance: 257.60742354633595\n",
      "  model = cd_fast.enet_coordinate_descent_gram(\n",
      ".......C:\\Users\\tthoresen\\Anaconda3\\lib\\site-packages\\sklearn\\linear_model\\_coordinate_descent.py:526: ConvergenceWarning: Objective did not converge. You might want to increase the number of iterations. Duality gap: 527.1915753420908, tolerance: 257.60742354633595\n",
      "  model = cd_fast.enet_coordinate_descent_gram(\n",
      "........................................................................................................................[Parallel(n_jobs=4)]: Done   3 out of   3 | elapsed:    6.0s finished\n"
     ]
    },
    {
     "name": "stdout",
     "output_type": "stream",
     "text": [
      "[0.00049343]\n",
      "Bolt_5_Tensile\n",
      "['Bolt_1_Tensile', 'Bolt_2_Tensile', 'Bolt_3_Tensile', 'Bolt_4_Tensile', 'Bolt_6_Tensile']\n",
      "Lasso\n"
     ]
    },
    {
     "name": "stderr",
     "output_type": "stream",
     "text": [
      "[Parallel(n_jobs=4)]: Using backend ThreadingBackend with 4 concurrent workers.\n",
      "...........................................................................................................................................C:\\Users\\tthoresen\\Anaconda3\\lib\\site-packages\\sklearn\\linear_model\\_coordinate_descent.py:526: ConvergenceWarning: Objective did not converge. You might want to increase the number of iterations. Duality gap: 574.0934496126138, tolerance: 222.34311220649715\n",
      "  model = cd_fast.enet_coordinate_descent_gram(\n",
      "...C:\\Users\\tthoresen\\Anaconda3\\lib\\site-packages\\sklearn\\linear_model\\_coordinate_descent.py:526: ConvergenceWarning: Objective did not converge. You might want to increase the number of iterations. Duality gap: 561.3656332939863, tolerance: 222.34311220649715\n",
      "  model = cd_fast.enet_coordinate_descent_gram(\n",
      "...C:\\Users\\tthoresen\\Anaconda3\\lib\\site-packages\\sklearn\\linear_model\\_coordinate_descent.py:526: ConvergenceWarning: Objective did not converge. You might want to increase the number of iterations. Duality gap: 396.6005287427688, tolerance: 222.34311220649715\n",
      "  model = cd_fast.enet_coordinate_descent_gram(\n",
      ".................................................................................C:\\Users\\tthoresen\\Anaconda3\\lib\\site-packages\\sklearn\\linear_model\\_coordinate_descent.py:526: ConvergenceWarning: Objective did not converge. You might want to increase the number of iterations. Duality gap: 631.3893840975361, tolerance: 344.8457087986729\n",
      "  model = cd_fast.enet_coordinate_descent_gram(\n",
      "...C:\\Users\\tthoresen\\Anaconda3\\lib\\site-packages\\sklearn\\linear_model\\_coordinate_descent.py:526: ConvergenceWarning: Objective did not converge. You might want to increase the number of iterations. Duality gap: 1480.8127629460068, tolerance: 344.8457087986729\n",
      "  model = cd_fast.enet_coordinate_descent_gram(\n",
      "...C:\\Users\\tthoresen\\Anaconda3\\lib\\site-packages\\sklearn\\linear_model\\_coordinate_descent.py:526: ConvergenceWarning: Objective did not converge. You might want to increase the number of iterations. Duality gap: 1653.7164613191271, tolerance: 344.8457087986729\n",
      "  model = cd_fast.enet_coordinate_descent_gram(\n",
      ".....C:\\Users\\tthoresen\\Anaconda3\\lib\\site-packages\\sklearn\\linear_model\\_coordinate_descent.py:526: ConvergenceWarning: Objective did not converge. You might want to increase the number of iterations. Duality gap: 1465.9527917937376, tolerance: 344.8457087986729\n",
      "  model = cd_fast.enet_coordinate_descent_gram(\n",
      ".....C:\\Users\\tthoresen\\Anaconda3\\lib\\site-packages\\sklearn\\linear_model\\_coordinate_descent.py:526: ConvergenceWarning: Objective did not converge. You might want to increase the number of iterations. Duality gap: 1111.8565157969133, tolerance: 344.8457087986729\n",
      "  model = cd_fast.enet_coordinate_descent_gram(\n",
      "...C:\\Users\\tthoresen\\Anaconda3\\lib\\site-packages\\sklearn\\linear_model\\_coordinate_descent.py:526: ConvergenceWarning: Objective did not converge. You might want to increase the number of iterations. Duality gap: 1840.8988926948514, tolerance: 344.8457087986729\n",
      "  model = cd_fast.enet_coordinate_descent_gram(\n",
      "....C:\\Users\\tthoresen\\Anaconda3\\lib\\site-packages\\sklearn\\linear_model\\_coordinate_descent.py:526: ConvergenceWarning: Objective did not converge. You might want to increase the number of iterations. Duality gap: 1249.6186796116526, tolerance: 344.8457087986729\n",
      "  model = cd_fast.enet_coordinate_descent_gram(\n",
      "....C:\\Users\\tthoresen\\Anaconda3\\lib\\site-packages\\sklearn\\linear_model\\_coordinate_descent.py:526: ConvergenceWarning: Objective did not converge. You might want to increase the number of iterations. Duality gap: 1292.9350631952984, tolerance: 344.8457087986729\n",
      "  model = cd_fast.enet_coordinate_descent_gram(\n",
      ".....C:\\Users\\tthoresen\\Anaconda3\\lib\\site-packages\\sklearn\\linear_model\\_coordinate_descent.py:526: ConvergenceWarning: Objective did not converge. You might want to increase the number of iterations. Duality gap: 563.0615031869966, tolerance: 344.8457087986729\n",
      "  model = cd_fast.enet_coordinate_descent_gram(\n",
      ".....C:\\Users\\tthoresen\\Anaconda3\\lib\\site-packages\\sklearn\\linear_model\\_coordinate_descent.py:526: ConvergenceWarning: Objective did not converge. You might want to increase the number of iterations. Duality gap: 1460.4603133855853, tolerance: 344.8457087986729\n",
      "  model = cd_fast.enet_coordinate_descent_gram(\n",
      ".....C:\\Users\\tthoresen\\Anaconda3\\lib\\site-packages\\sklearn\\linear_model\\_coordinate_descent.py:526: ConvergenceWarning: Objective did not converge. You might want to increase the number of iterations. Duality gap: 713.8766690343618, tolerance: 344.8457087986729\n",
      "  model = cd_fast.enet_coordinate_descent_gram(\n",
      "..C:\\Users\\tthoresen\\Anaconda3\\lib\\site-packages\\sklearn\\linear_model\\_coordinate_descent.py:526: ConvergenceWarning: Objective did not converge. You might want to increase the number of iterations. Duality gap: 630.7824671542621, tolerance: 344.8457087986729\n",
      "  model = cd_fast.enet_coordinate_descent_gram(\n",
      "...C:\\Users\\tthoresen\\Anaconda3\\lib\\site-packages\\sklearn\\linear_model\\_coordinate_descent.py:526: ConvergenceWarning: Objective did not converge. You might want to increase the number of iterations. Duality gap: 1364.0700778178289, tolerance: 344.8457087986729\n",
      "  model = cd_fast.enet_coordinate_descent_gram(\n",
      "....C:\\Users\\tthoresen\\Anaconda3\\lib\\site-packages\\sklearn\\linear_model\\_coordinate_descent.py:526: ConvergenceWarning: Objective did not converge. You might want to increase the number of iterations. Duality gap: 582.5392489382066, tolerance: 344.8457087986729\n",
      "  model = cd_fast.enet_coordinate_descent_gram(\n",
      "....C:\\Users\\tthoresen\\Anaconda3\\lib\\site-packages\\sklearn\\linear_model\\_coordinate_descent.py:526: ConvergenceWarning: Objective did not converge. You might want to increase the number of iterations. Duality gap: 1319.4318857625476, tolerance: 344.8457087986729\n",
      "  model = cd_fast.enet_coordinate_descent_gram(\n",
      "....C:\\Users\\tthoresen\\Anaconda3\\lib\\site-packages\\sklearn\\linear_model\\_coordinate_descent.py:526: ConvergenceWarning: Objective did not converge. You might want to increase the number of iterations. Duality gap: 1147.3181673602667, tolerance: 344.8457087986729\n",
      "  model = cd_fast.enet_coordinate_descent_gram(\n",
      "..C:\\Users\\tthoresen\\Anaconda3\\lib\\site-packages\\sklearn\\linear_model\\_coordinate_descent.py:526: ConvergenceWarning: Objective did not converge. You might want to increase the number of iterations. Duality gap: 1187.4879647457856, tolerance: 344.8457087986729\n",
      "  model = cd_fast.enet_coordinate_descent_gram(\n",
      "..C:\\Users\\tthoresen\\Anaconda3\\lib\\site-packages\\sklearn\\linear_model\\_coordinate_descent.py:526: ConvergenceWarning: Objective did not converge. You might want to increase the number of iterations. Duality gap: 762.3993737712153, tolerance: 344.8457087986729\n",
      "  model = cd_fast.enet_coordinate_descent_gram(\n",
      "...C:\\Users\\tthoresen\\Anaconda3\\lib\\site-packages\\sklearn\\linear_model\\_coordinate_descent.py:526: ConvergenceWarning: Objective did not converge. You might want to increase the number of iterations. Duality gap: 617.3260332120699, tolerance: 222.34311220649715\n",
      "  model = cd_fast.enet_coordinate_descent_gram(\n",
      "C:\\Users\\tthoresen\\Anaconda3\\lib\\site-packages\\sklearn\\linear_model\\_coordinate_descent.py:526: ConvergenceWarning: Objective did not converge. You might want to increase the number of iterations. Duality gap: 484.5462806225987, tolerance: 344.8457087986729\n",
      "  model = cd_fast.enet_coordinate_descent_gram(\n",
      "..C:\\Users\\tthoresen\\Anaconda3\\lib\\site-packages\\sklearn\\linear_model\\_coordinate_descent.py:526: ConvergenceWarning: Objective did not converge. You might want to increase the number of iterations. Duality gap: 409.7402929412201, tolerance: 344.8457087986729\n",
      "  model = cd_fast.enet_coordinate_descent_gram(\n",
      ".C:\\Users\\tthoresen\\Anaconda3\\lib\\site-packages\\sklearn\\linear_model\\_coordinate_descent.py:526: ConvergenceWarning: Objective did not converge. You might want to increase the number of iterations. Duality gap: 936.1244902819162, tolerance: 222.34311220649715\n",
      "  model = cd_fast.enet_coordinate_descent_gram(\n",
      ".C:\\Users\\tthoresen\\Anaconda3\\lib\\site-packages\\sklearn\\linear_model\\_coordinate_descent.py:526: ConvergenceWarning: Objective did not converge. You might want to increase the number of iterations. Duality gap: 1397.4802750353701, tolerance: 222.34311220649715\n",
      "  model = cd_fast.enet_coordinate_descent_gram(\n",
      "..C:\\Users\\tthoresen\\Anaconda3\\lib\\site-packages\\sklearn\\linear_model\\_coordinate_descent.py:526: ConvergenceWarning: Objective did not converge. You might want to increase the number of iterations. Duality gap: 1508.0145786122885, tolerance: 222.34311220649715\n",
      "  model = cd_fast.enet_coordinate_descent_gram(\n",
      ".C:\\Users\\tthoresen\\Anaconda3\\lib\\site-packages\\sklearn\\linear_model\\_coordinate_descent.py:526: ConvergenceWarning: Objective did not converge. You might want to increase the number of iterations. Duality gap: 1467.7737520315568, tolerance: 222.34311220649715\n",
      "  model = cd_fast.enet_coordinate_descent_gram(\n"
     ]
    },
    {
     "name": "stderr",
     "output_type": "stream",
     "text": [
      ".[Parallel(n_jobs=4)]: Done   3 out of   3 | elapsed:    7.0s finished\n"
     ]
    },
    {
     "name": "stdout",
     "output_type": "stream",
     "text": [
      "[0.00049919]\n",
      "Bolt_6_Tensile\n",
      "['Bolt_1_Tensile', 'Bolt_2_Tensile', 'Bolt_3_Tensile', 'Bolt_4_Tensile', 'Bolt_5_Tensile']\n",
      "Lasso\n"
     ]
    },
    {
     "name": "stderr",
     "output_type": "stream",
     "text": [
      "[Parallel(n_jobs=4)]: Using backend ThreadingBackend with 4 concurrent workers.\n",
      "............................................................................................................................................................................................................................................................................................................[Parallel(n_jobs=4)]: Done   3 out of   3 | elapsed:    6.5s finished\n"
     ]
    },
    {
     "name": "stdout",
     "output_type": "stream",
     "text": [
      "[0.00042336]\n"
     ]
    }
   ],
   "source": [
    "kf = KFold(n_splits=3, random_state=42, shuffle=True)\n",
    "fold = 1\n",
    "scores = {}\n",
    "preds = {}\n",
    "residuals = {}\n",
    "trained_models = {}\n",
    "for train_index, test_index in kf.split(df_X_train):\n",
    "    scores[fold] = {}\n",
    "    preds[fold] = {}\n",
    "    residuals[fold] = {}\n",
    "    trained_models[fold] = {}\n",
    "    print(fold)\n",
    "    X_train, X_test = df_X_train.iloc[train_index], df_X_train.iloc[test_index]\n",
    "    for y in y_cols:\n",
    "        print(y)\n",
    "        scores[fold][y] = {}\n",
    "        preds[fold][y] = {}\n",
    "        residuals[fold][y] = {}\n",
    "        trained_models[fold][y] = {}\n",
    "        drop_cols = [x for x in y_cols if x!=y]\n",
    "        print(drop_cols)\n",
    "        y_train, y_test = df_y_train.iloc[train_index].drop(drop_cols, axis=1).values.flatten(), df_y_train.iloc[test_index].drop(drop_cols, axis=1)\n",
    "        for (name, model) in estimators + [(\"Stacking Regressor\", stacking_regressor)]:\n",
    "            print(name)\n",
    "            model.fit(X_train, y_train)\n",
    "            y_pred = model.predict(X_test)\n",
    "            score = mean_absolute_percentage_error(y_test, y_pred, multioutput=\"raw_values\")\n",
    "            print(score)\n",
    "            scores[fold][y][name] = score\n",
    "            preds[fold][y][name] = y_pred\n",
    "            residuals[fold][y][name] = y_pred-y_test.values.flatten()\n",
    "            trained_models[fold][y][name] = model\n",
    "    fold = fold+1"
   ]
  },
  {
   "cell_type": "code",
   "execution_count": 44,
   "id": "bb4a2c99",
   "metadata": {},
   "outputs": [
    {
     "data": {
      "text/plain": [
       "{}"
      ]
     },
     "execution_count": 44,
     "metadata": {},
     "output_type": "execute_result"
    }
   ],
   "source": [
    "residuals"
   ]
  },
  {
   "cell_type": "markdown",
   "id": "05d16e27",
   "metadata": {},
   "source": [
    "# Make predictions on validation set"
   ]
  },
  {
   "cell_type": "code",
   "execution_count": 66,
   "id": "150a5aeb",
   "metadata": {
    "scrolled": false
   },
   "outputs": [
    {
     "name": "stdout",
     "output_type": "stream",
     "text": [
      "Bolt_1_Tensile\n"
     ]
    },
    {
     "name": "stderr",
     "output_type": "stream",
     "text": [
      "[Parallel(n_jobs=4)]: Using backend ThreadingBackend with 4 concurrent workers.\n",
      "............................................................................................................................................................................................................................................................................................................[Parallel(n_jobs=4)]: Done   3 out of   3 | elapsed:    2.7s finished\n"
     ]
    },
    {
     "name": "stdout",
     "output_type": "stream",
     "text": [
      "0.00041282482026638347\n",
      "Bolt_2_Tensile\n"
     ]
    },
    {
     "name": "stderr",
     "output_type": "stream",
     "text": [
      "[Parallel(n_jobs=4)]: Using backend ThreadingBackend with 4 concurrent workers.\n",
      "............................................................................................................................................................................................................................................................................................................[Parallel(n_jobs=4)]: Done   3 out of   3 | elapsed:    3.0s finished\n"
     ]
    },
    {
     "name": "stdout",
     "output_type": "stream",
     "text": [
      "0.00047484663680656393\n",
      "Bolt_3_Tensile\n"
     ]
    },
    {
     "name": "stderr",
     "output_type": "stream",
     "text": [
      "[Parallel(n_jobs=4)]: Using backend ThreadingBackend with 4 concurrent workers.\n",
      "............................................................................................................................................................................................................................................................................................................[Parallel(n_jobs=4)]: Done   3 out of   3 | elapsed:    3.1s finished\n"
     ]
    },
    {
     "name": "stdout",
     "output_type": "stream",
     "text": [
      "0.00034874322740003814\n",
      "Bolt_4_Tensile\n"
     ]
    },
    {
     "name": "stderr",
     "output_type": "stream",
     "text": [
      "[Parallel(n_jobs=4)]: Using backend ThreadingBackend with 4 concurrent workers.\n",
      "...............................................................................................................................................................C:\\Users\\tthoresen\\Anaconda3\\lib\\site-packages\\sklearn\\linear_model\\_coordinate_descent.py:526: ConvergenceWarning: Objective did not converge. You might want to increase the number of iterations. Duality gap: 708.7407604977489, tolerance: 388.5453574330949\n",
      "  model = cd_fast.enet_coordinate_descent_gram(\n",
      ".....C:\\Users\\tthoresen\\Anaconda3\\lib\\site-packages\\sklearn\\linear_model\\_coordinate_descent.py:526: ConvergenceWarning: Objective did not converge. You might want to increase the number of iterations. Duality gap: 613.8171333634527, tolerance: 388.5453574330949\n",
      "  model = cd_fast.enet_coordinate_descent_gram(\n",
      "....C:\\Users\\tthoresen\\Anaconda3\\lib\\site-packages\\sklearn\\linear_model\\_coordinate_descent.py:526: ConvergenceWarning: Objective did not converge. You might want to increase the number of iterations. Duality gap: 649.3295007406268, tolerance: 388.5453574330949\n",
      "  model = cd_fast.enet_coordinate_descent_gram(\n",
      "....................................................................................................................................[Parallel(n_jobs=4)]: Done   3 out of   3 | elapsed:    3.1s finished\n"
     ]
    },
    {
     "name": "stdout",
     "output_type": "stream",
     "text": [
      "0.0004897895071860078\n",
      "Bolt_5_Tensile\n"
     ]
    },
    {
     "name": "stderr",
     "output_type": "stream",
     "text": [
      "[Parallel(n_jobs=4)]: Using backend ThreadingBackend with 4 concurrent workers.\n",
      "...................................................................................C:\\Users\\tthoresen\\Anaconda3\\lib\\site-packages\\sklearn\\linear_model\\_coordinate_descent.py:526: ConvergenceWarning: Objective did not converge. You might want to increase the number of iterations. Duality gap: 932.6413904826622, tolerance: 335.4027707903404\n",
      "  model = cd_fast.enet_coordinate_descent_gram(\n",
      "....C:\\Users\\tthoresen\\Anaconda3\\lib\\site-packages\\sklearn\\linear_model\\_coordinate_descent.py:526: ConvergenceWarning: Objective did not converge. You might want to increase the number of iterations. Duality gap: 998.1223899153993, tolerance: 335.4027707903404\n",
      "  model = cd_fast.enet_coordinate_descent_gram(\n",
      "............................................................................................................................................................................C:\\Users\\tthoresen\\Anaconda3\\lib\\site-packages\\sklearn\\linear_model\\_coordinate_descent.py:526: ConvergenceWarning: Objective did not converge. You might want to increase the number of iterations. Duality gap: 691.7256372580305, tolerance: 335.4027707903404\n",
      "  model = cd_fast.enet_coordinate_descent_gram(\n",
      "......C:\\Users\\tthoresen\\Anaconda3\\lib\\site-packages\\sklearn\\linear_model\\_coordinate_descent.py:526: ConvergenceWarning: Objective did not converge. You might want to increase the number of iterations. Duality gap: 1580.0164344045334, tolerance: 335.4027707903404\n",
      "  model = cd_fast.enet_coordinate_descent_gram(\n",
      "....C:\\Users\\tthoresen\\Anaconda3\\lib\\site-packages\\sklearn\\linear_model\\_coordinate_descent.py:526: ConvergenceWarning: Objective did not converge. You might want to increase the number of iterations. Duality gap: 2036.978427457856, tolerance: 335.4027707903404\n",
      "  model = cd_fast.enet_coordinate_descent_gram(\n",
      "......C:\\Users\\tthoresen\\Anaconda3\\lib\\site-packages\\sklearn\\linear_model\\_coordinate_descent.py:526: ConvergenceWarning: Objective did not converge. You might want to increase the number of iterations. Duality gap: 1984.1389581013937, tolerance: 335.4027707903404\n",
      "  model = cd_fast.enet_coordinate_descent_gram(\n",
      "...C:\\Users\\tthoresen\\Anaconda3\\lib\\site-packages\\sklearn\\linear_model\\_coordinate_descent.py:526: ConvergenceWarning: Objective did not converge. You might want to increase the number of iterations. Duality gap: 1621.3028203416616, tolerance: 335.4027707903404\n",
      "  model = cd_fast.enet_coordinate_descent_gram(\n",
      ".C:\\Users\\tthoresen\\Anaconda3\\lib\\site-packages\\sklearn\\linear_model\\_coordinate_descent.py:526: ConvergenceWarning: Objective did not converge. You might want to increase the number of iterations. Duality gap: 862.3232631692663, tolerance: 524.7325261591297\n",
      "  model = cd_fast.enet_coordinate_descent_gram(\n",
      ".C:\\Users\\tthoresen\\Anaconda3\\lib\\site-packages\\sklearn\\linear_model\\_coordinate_descent.py:526: ConvergenceWarning: Objective did not converge. You might want to increase the number of iterations. Duality gap: 921.7414228986017, tolerance: 524.7325261591297\n",
      "  model = cd_fast.enet_coordinate_descent_gram(\n",
      ".C:\\Users\\tthoresen\\Anaconda3\\lib\\site-packages\\sklearn\\linear_model\\_coordinate_descent.py:526: ConvergenceWarning: Objective did not converge. You might want to increase the number of iterations. Duality gap: 1024.1981339489575, tolerance: 524.7325261591297\n",
      "  model = cd_fast.enet_coordinate_descent_gram(\n",
      ".C:\\Users\\tthoresen\\Anaconda3\\lib\\site-packages\\sklearn\\linear_model\\_coordinate_descent.py:526: ConvergenceWarning: Objective did not converge. You might want to increase the number of iterations. Duality gap: 2348.2574225240387, tolerance: 524.7325261591297\n",
      "  model = cd_fast.enet_coordinate_descent_gram(\n",
      ".C:\\Users\\tthoresen\\Anaconda3\\lib\\site-packages\\sklearn\\linear_model\\_coordinate_descent.py:526: ConvergenceWarning: Objective did not converge. You might want to increase the number of iterations. Duality gap: 866.2869637748227, tolerance: 524.7325261591297\n",
      "  model = cd_fast.enet_coordinate_descent_gram(\n",
      ".C:\\Users\\tthoresen\\Anaconda3\\lib\\site-packages\\sklearn\\linear_model\\_coordinate_descent.py:526: ConvergenceWarning: Objective did not converge. You might want to increase the number of iterations. Duality gap: 1175.4126549093053, tolerance: 524.7325261591297\n",
      "  model = cd_fast.enet_coordinate_descent_gram(\n",
      ".C:\\Users\\tthoresen\\Anaconda3\\lib\\site-packages\\sklearn\\linear_model\\_coordinate_descent.py:526: ConvergenceWarning: Objective did not converge. You might want to increase the number of iterations. Duality gap: 1094.7713406628463, tolerance: 524.7325261591297\n",
      "  model = cd_fast.enet_coordinate_descent_gram(\n",
      ".C:\\Users\\tthoresen\\Anaconda3\\lib\\site-packages\\sklearn\\linear_model\\_coordinate_descent.py:526: ConvergenceWarning: Objective did not converge. You might want to increase the number of iterations. Duality gap: 1199.0534489112906, tolerance: 524.7325261591297\n",
      "  model = cd_fast.enet_coordinate_descent_gram(\n",
      ".C:\\Users\\tthoresen\\Anaconda3\\lib\\site-packages\\sklearn\\linear_model\\_coordinate_descent.py:526: ConvergenceWarning: Objective did not converge. You might want to increase the number of iterations. Duality gap: 991.154745523585, tolerance: 524.7325261591297\n",
      "  model = cd_fast.enet_coordinate_descent_gram(\n",
      ".C:\\Users\\tthoresen\\Anaconda3\\lib\\site-packages\\sklearn\\linear_model\\_coordinate_descent.py:526: ConvergenceWarning: Objective did not converge. You might want to increase the number of iterations. Duality gap: 1359.6900884734932, tolerance: 524.7325261591297\n",
      "  model = cd_fast.enet_coordinate_descent_gram(\n",
      ".C:\\Users\\tthoresen\\Anaconda3\\lib\\site-packages\\sklearn\\linear_model\\_coordinate_descent.py:526: ConvergenceWarning: Objective did not converge. You might want to increase the number of iterations. Duality gap: 2331.48704798962, tolerance: 524.7325261591297\n",
      "  model = cd_fast.enet_coordinate_descent_gram(\n",
      ".C:\\Users\\tthoresen\\Anaconda3\\lib\\site-packages\\sklearn\\linear_model\\_coordinate_descent.py:526: ConvergenceWarning: Objective did not converge. You might want to increase the number of iterations. Duality gap: 729.6970273990883, tolerance: 524.7325261591297\n",
      "  model = cd_fast.enet_coordinate_descent_gram(\n",
      ".C:\\Users\\tthoresen\\Anaconda3\\lib\\site-packages\\sklearn\\linear_model\\_coordinate_descent.py:526: ConvergenceWarning: Objective did not converge. You might want to increase the number of iterations. Duality gap: 814.1633965854999, tolerance: 524.7325261591297\n",
      "  model = cd_fast.enet_coordinate_descent_gram(\n",
      ".C:\\Users\\tthoresen\\Anaconda3\\lib\\site-packages\\sklearn\\linear_model\\_coordinate_descent.py:526: ConvergenceWarning: Objective did not converge. You might want to increase the number of iterations. Duality gap: 887.2017286943737, tolerance: 524.7325261591297\n",
      "  model = cd_fast.enet_coordinate_descent_gram(\n",
      ".C:\\Users\\tthoresen\\Anaconda3\\lib\\site-packages\\sklearn\\linear_model\\_coordinate_descent.py:526: ConvergenceWarning: Objective did not converge. You might want to increase the number of iterations. Duality gap: 762.2916599684395, tolerance: 524.7325261591297\n",
      "  model = cd_fast.enet_coordinate_descent_gram(\n",
      ".C:\\Users\\tthoresen\\Anaconda3\\lib\\site-packages\\sklearn\\linear_model\\_coordinate_descent.py:526: ConvergenceWarning: Objective did not converge. You might want to increase the number of iterations. Duality gap: 1147.3588814467657, tolerance: 524.7325261591297\n",
      "  model = cd_fast.enet_coordinate_descent_gram(\n",
      ".C:\\Users\\tthoresen\\Anaconda3\\lib\\site-packages\\sklearn\\linear_model\\_coordinate_descent.py:526: ConvergenceWarning: Objective did not converge. You might want to increase the number of iterations. Duality gap: 871.168894832721, tolerance: 524.7325261591297\n",
      "  model = cd_fast.enet_coordinate_descent_gram(\n",
      ".C:\\Users\\tthoresen\\Anaconda3\\lib\\site-packages\\sklearn\\linear_model\\_coordinate_descent.py:526: ConvergenceWarning: Objective did not converge. You might want to increase the number of iterations. Duality gap: 1783.6161299909, tolerance: 524.7325261591297\n",
      "  model = cd_fast.enet_coordinate_descent_gram(\n",
      ".C:\\Users\\tthoresen\\Anaconda3\\lib\\site-packages\\sklearn\\linear_model\\_coordinate_descent.py:526: ConvergenceWarning: Objective did not converge. You might want to increase the number of iterations. Duality gap: 1687.0302105464507, tolerance: 524.7325261591297\n",
      "  model = cd_fast.enet_coordinate_descent_gram(\n",
      ".C:\\Users\\tthoresen\\Anaconda3\\lib\\site-packages\\sklearn\\linear_model\\_coordinate_descent.py:526: ConvergenceWarning: Objective did not converge. You might want to increase the number of iterations. Duality gap: 667.4189199504908, tolerance: 524.7325261591297\n",
      "  model = cd_fast.enet_coordinate_descent_gram(\n",
      ".C:\\Users\\tthoresen\\Anaconda3\\lib\\site-packages\\sklearn\\linear_model\\_coordinate_descent.py:526: ConvergenceWarning: Objective did not converge. You might want to increase the number of iterations. Duality gap: 1479.2090932724532, tolerance: 524.7325261591297\n",
      "  model = cd_fast.enet_coordinate_descent_gram(\n"
     ]
    },
    {
     "name": "stderr",
     "output_type": "stream",
     "text": [
      ".[Parallel(n_jobs=4)]: Done   3 out of   3 | elapsed:    3.3s finished\n"
     ]
    },
    {
     "name": "stdout",
     "output_type": "stream",
     "text": [
      "0.0004987700719237374\n",
      "Bolt_6_Tensile\n"
     ]
    },
    {
     "name": "stderr",
     "output_type": "stream",
     "text": [
      "[Parallel(n_jobs=4)]: Using backend ThreadingBackend with 4 concurrent workers.\n",
      "............................................................................................................................................................................................................................................................................................................[Parallel(n_jobs=4)]: Done   3 out of   3 | elapsed:    3.1s finished\n"
     ]
    },
    {
     "name": "stdout",
     "output_type": "stream",
     "text": [
      "0.0004229523468079215\n"
     ]
    }
   ],
   "source": [
    "scores = {}\n",
    "preds = {}\n",
    "residuals = {}\n",
    "models = {}\n",
    "for y in y_cols:\n",
    "    print(y)\n",
    "    drop_cols = [x for x in y_cols if x!=y]\n",
    "    y_train = df_y_train.drop(drop_cols, axis=1).values.flatten()\n",
    "    y_val = df_y_val.drop(drop_cols, axis=1).values.flatten()\n",
    "    model = make_pipeline(linear_preprocessor, LassoCV(n_jobs=4, cv=3, verbose=True, selection=\"random\", max_iter=1000))\n",
    "    model.fit(df_X_train, y_train)\n",
    "    y_pred = model.predict(df_X_val)\n",
    "    score = mean_absolute_percentage_error(y_val, y_pred)\n",
    "    print(score)\n",
    "    scores[y] = score\n",
    "    preds[y] = y_pred\n",
    "    residuals[y] = y_pred-y_val\n",
    "    models[y] = model"
   ]
  },
  {
   "cell_type": "markdown",
   "id": "5b136237",
   "metadata": {},
   "source": [
    "# Investigate results"
   ]
  },
  {
   "cell_type": "code",
   "execution_count": null,
   "id": "f361741b",
   "metadata": {},
   "outputs": [],
   "source": []
  },
  {
   "cell_type": "code",
   "execution_count": 60,
   "id": "92e73c89",
   "metadata": {},
   "outputs": [
    {
     "name": "stdout",
     "output_type": "stream",
     "text": [
      "0.010272815990999816\n",
      "[ 3.26762363  0.         -0.          1.91244025  0.          1.39420872\n",
      "  0.27901333 10.3355319  -0.          0.          0.          0.\n",
      " -0.        ]\n",
      "1613.2769967566187\n",
      "0.12204020470665401\n",
      "[ 0.20888342  0.          1.02215064 -0.          0.          1.10303492\n",
      "  0.          6.11191387  0.         -0.         -0.          0.\n",
      " -0.        ]\n",
      "1490.36379467712\n",
      "0.0902935851773336\n",
      "[ 0.55474899  0.05907177  0.27942024 -0.         -0.          0.22865265\n",
      "  0.          4.5125649   0.         -0.         -0.          0.\n",
      " -0.        ]\n",
      "1690.2547346761987\n",
      "0.32581852179587084\n",
      "[ 0.          0.          1.18017032 -0.         -0.          0.56685684\n",
      "  0.          0.61764544  0.         -0.         -0.          0.\n",
      " -0.        ]\n",
      "1602.8958871682505\n",
      "0.33897923653829337\n",
      "[ 0.          0.          0.9117303  -0.         -0.          0.49288967\n",
      " -0.          0.38450756  0.         -0.         -0.          0.\n",
      " -0.        ]\n",
      "1637.4207518798084\n",
      "0.0037204692625481465\n",
      "[ 3.64511094  0.10611503 -0.          2.28676176 -0.13473974  1.2059746\n",
      "  0.15968234  3.78971993 -2.46990304  2.3545798   0.         -0.\n",
      " -0.        ]\n",
      "1682.163799565422\n"
     ]
    }
   ],
   "source": [
    "for y in y_cols:\n",
    "    a = models[y].steps[-1][1].alpha_\n",
    "    coefs = models[y].steps[-1][1].coef_\n",
    "    intercept = models[y].steps[-1][1].intercept_\n",
    "    print(a)\n",
    "    print(coefs)\n",
    "    print(intercept)"
   ]
  },
  {
   "cell_type": "code",
   "execution_count": 47,
   "id": "f6090433",
   "metadata": {},
   "outputs": [
    {
     "data": {
      "text/plain": [
       "{'Bolt_1_Tensile': 0.00041289120697323854,\n",
       " 'Bolt_2_Tensile': 0.0004747933360997181,\n",
       " 'Bolt_3_Tensile': 0.0003483201275933176,\n",
       " 'Bolt_4_Tensile': 0.0004897819519889367,\n",
       " 'Bolt_5_Tensile': 0.000498770245764835,\n",
       " 'Bolt_6_Tensile': 0.00042295235419006935}"
      ]
     },
     "execution_count": 47,
     "metadata": {},
     "output_type": "execute_result"
    }
   ],
   "source": [
    "scores"
   ]
  },
  {
   "cell_type": "code",
   "execution_count": null,
   "id": "8bb1c41d",
   "metadata": {},
   "outputs": [],
   "source": [
    "score_df = pd.DataFrame.from_dict(scores, orient=\"index\")\n",
    "score_df.plot(kind=\"bar\", figsize=(24,18))"
   ]
  },
  {
   "cell_type": "code",
   "execution_count": null,
   "id": "0be938ec",
   "metadata": {},
   "outputs": [],
   "source": [
    "score_df.mean()"
   ]
  },
  {
   "cell_type": "markdown",
   "id": "107d759c",
   "metadata": {},
   "source": [
    "# Plot feature importances"
   ]
  },
  {
   "cell_type": "code",
   "execution_count": null,
   "id": "005817c9",
   "metadata": {},
   "outputs": [],
   "source": [
    "models"
   ]
  },
  {
   "cell_type": "code",
   "execution_count": null,
   "id": "1744790d",
   "metadata": {},
   "outputs": [],
   "source": [
    "nrow= 3\n",
    "ncol=2\n",
    "\n",
    "# make a list of all dataframes \n",
    "fig, axes = plt.subplots(nrow, ncol, figsize=(30,24))\n",
    "\n",
    "# plot counter\n",
    "count=1\n",
    "for r in range(nrow):\n",
    "    for c in range(ncol):\n",
    "        name = \"Bolt_\"+str(count)+\"_Tensile\"\n",
    "        model = models[name]\n",
    "        imps = pd.Series(model.feature_importances_, index=df_X_val.columns)\n",
    "        imps.plot(kind=\"bar\", ax=axes[r,c], title=name)\n",
    "        count+=1"
   ]
  },
  {
   "cell_type": "markdown",
   "id": "8e6a61ed",
   "metadata": {},
   "source": [
    "It is interesting to see that days_since_start matters more for the bolts that are more difficult to predict."
   ]
  },
  {
   "cell_type": "markdown",
   "id": "9f4e2633",
   "metadata": {},
   "source": [
    "# Plot residuals"
   ]
  },
  {
   "cell_type": "markdown",
   "id": "227b8591",
   "metadata": {},
   "source": [
    "Where do we miss?"
   ]
  },
  {
   "cell_type": "code",
   "execution_count": 67,
   "id": "acdbc44d",
   "metadata": {},
   "outputs": [],
   "source": [
    "res_df = pd.DataFrame(data=np.transpose([residuals[y] for y in y_cols]), index=val_df_dt, columns=y_cols)"
   ]
  },
  {
   "cell_type": "code",
   "execution_count": 68,
   "id": "deeed7ff",
   "metadata": {},
   "outputs": [
    {
     "data": {
      "image/png": "[encoded data removed]",
      "text/plain": [
       "<Figure size 2160x1728 with 6 Axes>"
      ]
     },
     "metadata": {},
     "output_type": "display_data"
    }
   ],
   "source": [
    "nrow= 3\n",
    "ncol=2\n",
    "\n",
    "# make a list of all dataframes \n",
    "fig, axes = plt.subplots(nrow, ncol, figsize=(30,24))\n",
    "\n",
    "# plot counter\n",
    "count=1\n",
    "for r in range(nrow):\n",
    "    for c in range(ncol):\n",
    "        name = \"Bolt_\"+str(count)+\"_Tensile\"\n",
    "        res_df[name].plot(style=\".\", ax=axes[r,c], title=name)\n",
    "        count+=1"
   ]
  },
  {
   "cell_type": "markdown",
   "id": "b51021c5",
   "metadata": {},
   "source": [
    "# Train final model with whole dataset"
   ]
  },
  {
   "cell_type": "code",
   "execution_count": 69,
   "id": "ff892a06",
   "metadata": {},
   "outputs": [
    {
     "data": {
      "text/plain": [
       "Index(['Bolt_1_Tensile', 'Bolt_2_Tensile', 'Bolt_3_Tensile', 'Bolt_4_Tensile',\n",
       "       'Bolt_5_Tensile', 'Bolt_6_Tensile', 'Unit_4_Power',\n",
       "       'Unit_4_Reactive Power', 'Turbine_Guide Vane Opening',\n",
       "       'Turbine_Pressure Drafttube', 'Turbine_Pressure Spiral Casing',\n",
       "       'Turbine_Rotational Speed', 'mode', 'datetime'],\n",
       "      dtype='object')"
      ]
     },
     "execution_count": 69,
     "metadata": {},
     "output_type": "execute_result"
    }
   ],
   "source": [
    "df.columns"
   ]
  },
  {
   "cell_type": "code",
   "execution_count": 70,
   "id": "0ba37381",
   "metadata": {},
   "outputs": [],
   "source": [
    "final_df = preprocessing(df)"
   ]
  },
  {
   "cell_type": "code",
   "execution_count": 71,
   "id": "4240cf76",
   "metadata": {},
   "outputs": [],
   "source": [
    "df_X, df_y = split_x_y(final_df) "
   ]
  },
  {
   "cell_type": "code",
   "execution_count": 72,
   "id": "d6a4846d",
   "metadata": {},
   "outputs": [
    {
     "data": {
      "text/plain": [
       "(Index(['Unit_4_Power', 'Unit_4_Reactive Power', 'Turbine_Guide Vane Opening',\n",
       "        'Turbine_Pressure Drafttube', 'Turbine_Pressure Spiral Casing',\n",
       "        'Turbine_Rotational Speed', 'mode', 'mode_switch', 'sec_since_switch',\n",
       "        'days_since_start'],\n",
       "       dtype='object'),\n",
       " Index(['Bolt_1_Tensile', 'Bolt_2_Tensile', 'Bolt_3_Tensile', 'Bolt_4_Tensile',\n",
       "        'Bolt_5_Tensile', 'Bolt_6_Tensile'],\n",
       "       dtype='object'))"
      ]
     },
     "execution_count": 72,
     "metadata": {},
     "output_type": "execute_result"
    }
   ],
   "source": [
    "df_X.columns, df_y.columns"
   ]
  },
  {
   "cell_type": "code",
   "execution_count": null,
   "id": "6d117f1b",
   "metadata": {},
   "outputs": [
    {
     "name": "stderr",
     "output_type": "stream",
     "text": [
      "[Parallel(n_jobs=4)]: Using backend ThreadingBackend with 4 concurrent workers.\n",
      "............................................................................................................................................................................................................................................................................................................[Parallel(n_jobs=4)]: Done   3 out of   3 | elapsed:    3.4s finished\n",
      "[Parallel(n_jobs=4)]: Using backend ThreadingBackend with 4 concurrent workers.\n",
      "............................................................................................................................................................................................................................................................................................................[Parallel(n_jobs=4)]: Done   3 out of   3 | elapsed:    3.7s finished\n",
      "[Parallel(n_jobs=4)]: Using backend ThreadingBackend with 4 concurrent workers.\n",
      "............................................................................................................................................................................................................................................................................................................[Parallel(n_jobs=4)]: Done   3 out of   3 | elapsed:    3.5s finished\n",
      "[Parallel(n_jobs=4)]: Using backend ThreadingBackend with 4 concurrent workers.\n",
      ".............................................................................................................................................................................................................................C:\\Users\\tthoresen\\Anaconda3\\lib\\site-packages\\sklearn\\linear_model\\_coordinate_descent.py:526: ConvergenceWarning: Objective did not converge. You might want to increase the number of iterations. Duality gap: 499.1618902538903, tolerance: 486.44704982458046\n",
      "  model = cd_fast.enet_coordinate_descent_gram(\n",
      "....C:\\Users\\tthoresen\\Anaconda3\\lib\\site-packages\\sklearn\\linear_model\\_coordinate_descent.py:526: ConvergenceWarning: Objective did not converge. You might want to increase the number of iterations. Duality gap: 621.8478934576269, tolerance: 486.44704982458046\n",
      "  model = cd_fast.enet_coordinate_descent_gram(\n",
      "...C:\\Users\\tthoresen\\Anaconda3\\lib\\site-packages\\sklearn\\linear_model\\_coordinate_descent.py:526: ConvergenceWarning: Objective did not converge. You might want to increase the number of iterations. Duality gap: 1093.5345555201638, tolerance: 486.44704982458046\n",
      "  model = cd_fast.enet_coordinate_descent_gram(\n",
      "....C:\\Users\\tthoresen\\Anaconda3\\lib\\site-packages\\sklearn\\linear_model\\_coordinate_descent.py:526: ConvergenceWarning: Objective did not converge. You might want to increase the number of iterations. Duality gap: 599.9123449811013, tolerance: 486.44704982458046\n",
      "  model = cd_fast.enet_coordinate_descent_gram(\n",
      "....................................................................[Parallel(n_jobs=4)]: Done   3 out of   3 | elapsed:    3.5s finished\n",
      "[Parallel(n_jobs=4)]: Using backend ThreadingBackend with 4 concurrent workers.\n",
      ".........................................................................................................................................................................................C:\\Users\\tthoresen\\Anaconda3\\lib\\site-packages\\sklearn\\linear_model\\_coordinate_descent.py:526: ConvergenceWarning: Objective did not converge. You might want to increase the number of iterations. Duality gap: 1193.9083733735606, tolerance: 419.7581818961514\n",
      "  model = cd_fast.enet_coordinate_descent_gram(\n",
      "...C:\\Users\\tthoresen\\Anaconda3\\lib\\site-packages\\sklearn\\linear_model\\_coordinate_descent.py:526: ConvergenceWarning: Objective did not converge. You might want to increase the number of iterations. Duality gap: 995.1290703776758, tolerance: 419.7581818961514\n",
      "  model = cd_fast.enet_coordinate_descent_gram(\n",
      "...C:\\Users\\tthoresen\\Anaconda3\\lib\\site-packages\\sklearn\\linear_model\\_coordinate_descent.py:526: ConvergenceWarning: Objective did not converge. You might want to increase the number of iterations. Duality gap: 1103.606707252562, tolerance: 419.7581818961514\n",
      "  model = cd_fast.enet_coordinate_descent_gram(\n",
      "...............................................................C:\\Users\\tthoresen\\Anaconda3\\lib\\site-packages\\sklearn\\linear_model\\_coordinate_descent.py:526: ConvergenceWarning: Objective did not converge. You might want to increase the number of iterations. Duality gap: 2035.3673967777286, tolerance: 652.0377767847159\n",
      "  model = cd_fast.enet_coordinate_descent_gram(\n",
      ".....C:\\Users\\tthoresen\\Anaconda3\\lib\\site-packages\\sklearn\\linear_model\\_coordinate_descent.py:526: ConvergenceWarning: Objective did not converge. You might want to increase the number of iterations. Duality gap: 2944.5648563015275, tolerance: 652.0377767847159\n",
      "  model = cd_fast.enet_coordinate_descent_gram(\n",
      "....C:\\Users\\tthoresen\\Anaconda3\\lib\\site-packages\\sklearn\\linear_model\\_coordinate_descent.py:526: ConvergenceWarning: Objective did not converge. You might want to increase the number of iterations. Duality gap: 1190.368877670262, tolerance: 652.0377767847159\n",
      "  model = cd_fast.enet_coordinate_descent_gram(\n",
      "....C:\\Users\\tthoresen\\Anaconda3\\lib\\site-packages\\sklearn\\linear_model\\_coordinate_descent.py:526: ConvergenceWarning: Objective did not converge. You might want to increase the number of iterations. Duality gap: 1193.0132364459569, tolerance: 652.0377767847159\n",
      "  model = cd_fast.enet_coordinate_descent_gram(\n",
      "...C:\\Users\\tthoresen\\Anaconda3\\lib\\site-packages\\sklearn\\linear_model\\_coordinate_descent.py:526: ConvergenceWarning: Objective did not converge. You might want to increase the number of iterations. Duality gap: 3489.921020684531, tolerance: 652.0377767847159\n",
      "  model = cd_fast.enet_coordinate_descent_gram(\n",
      "....C:\\Users\\tthoresen\\Anaconda3\\lib\\site-packages\\sklearn\\linear_model\\_coordinate_descent.py:526: ConvergenceWarning: Objective did not converge. You might want to increase the number of iterations. Duality gap: 1253.3556166924536, tolerance: 652.0377767847159\n",
      "  model = cd_fast.enet_coordinate_descent_gram(\n",
      "....C:\\Users\\tthoresen\\Anaconda3\\lib\\site-packages\\sklearn\\linear_model\\_coordinate_descent.py:526: ConvergenceWarning: Objective did not converge. You might want to increase the number of iterations. Duality gap: 1044.2466828140896, tolerance: 652.0377767847159\n",
      "  model = cd_fast.enet_coordinate_descent_gram(\n",
      "...C:\\Users\\tthoresen\\Anaconda3\\lib\\site-packages\\sklearn\\linear_model\\_coordinate_descent.py:526: ConvergenceWarning: Objective did not converge. You might want to increase the number of iterations. Duality gap: 1058.6328309419332, tolerance: 652.0377767847159\n",
      "  model = cd_fast.enet_coordinate_descent_gram(\n",
      ".C:\\Users\\tthoresen\\Anaconda3\\lib\\site-packages\\sklearn\\linear_model\\_coordinate_descent.py:526: ConvergenceWarning: Objective did not converge. You might want to increase the number of iterations. Duality gap: 1571.0083337533288, tolerance: 419.7581818961514\n",
      "  model = cd_fast.enet_coordinate_descent_gram(\n",
      ".C:\\Users\\tthoresen\\Anaconda3\\lib\\site-packages\\sklearn\\linear_model\\_coordinate_descent.py:526: ConvergenceWarning: Objective did not converge. You might want to increase the number of iterations. Duality gap: 2752.33058717486, tolerance: 652.0377767847159\n",
      "  model = cd_fast.enet_coordinate_descent_gram(\n",
      ".C:\\Users\\tthoresen\\Anaconda3\\lib\\site-packages\\sklearn\\linear_model\\_coordinate_descent.py:526: ConvergenceWarning: Objective did not converge. You might want to increase the number of iterations. Duality gap: 937.9280329045141, tolerance: 419.7581818961514\n",
      "  model = cd_fast.enet_coordinate_descent_gram(\n",
      ".C:\\Users\\tthoresen\\Anaconda3\\lib\\site-packages\\sklearn\\linear_model\\_coordinate_descent.py:526: ConvergenceWarning: Objective did not converge. You might want to increase the number of iterations. Duality gap: 1003.1109880632721, tolerance: 652.0377767847159\n",
      "  model = cd_fast.enet_coordinate_descent_gram(\n",
      ".C:\\Users\\tthoresen\\Anaconda3\\lib\\site-packages\\sklearn\\linear_model\\_coordinate_descent.py:526: ConvergenceWarning: Objective did not converge. You might want to increase the number of iterations. Duality gap: 2318.6937608108856, tolerance: 419.7581818961514\n",
      "  model = cd_fast.enet_coordinate_descent_gram(\n",
      ".C:\\Users\\tthoresen\\Anaconda3\\lib\\site-packages\\sklearn\\linear_model\\_coordinate_descent.py:526: ConvergenceWarning: Objective did not converge. You might want to increase the number of iterations. Duality gap: 2689.8301042965613, tolerance: 652.0377767847159\n",
      "  model = cd_fast.enet_coordinate_descent_gram(\n",
      ".C:\\Users\\tthoresen\\Anaconda3\\lib\\site-packages\\sklearn\\linear_model\\_coordinate_descent.py:526: ConvergenceWarning: Objective did not converge. You might want to increase the number of iterations. Duality gap: 2261.4961594144115, tolerance: 419.7581818961514\n",
      "  model = cd_fast.enet_coordinate_descent_gram(\n",
      ".C:\\Users\\tthoresen\\Anaconda3\\lib\\site-packages\\sklearn\\linear_model\\_coordinate_descent.py:526: ConvergenceWarning: Objective did not converge. You might want to increase the number of iterations. Duality gap: 1394.6217547091655, tolerance: 652.0377767847159\n",
      "  model = cd_fast.enet_coordinate_descent_gram(\n",
      ".C:\\Users\\tthoresen\\Anaconda3\\lib\\site-packages\\sklearn\\linear_model\\_coordinate_descent.py:526: ConvergenceWarning: Objective did not converge. You might want to increase the number of iterations. Duality gap: 2765.9950487809256, tolerance: 419.7581818961514\n",
      "  model = cd_fast.enet_coordinate_descent_gram(\n",
      ".C:\\Users\\tthoresen\\Anaconda3\\lib\\site-packages\\sklearn\\linear_model\\_coordinate_descent.py:526: ConvergenceWarning: Objective did not converge. You might want to increase the number of iterations. Duality gap: 2738.736380038201, tolerance: 652.0377767847159\n",
      "  model = cd_fast.enet_coordinate_descent_gram(\n",
      ".C:\\Users\\tthoresen\\Anaconda3\\lib\\site-packages\\sklearn\\linear_model\\_coordinate_descent.py:526: ConvergenceWarning: Objective did not converge. You might want to increase the number of iterations. Duality gap: 2117.8395927045494, tolerance: 652.0377767847159\n",
      "  model = cd_fast.enet_coordinate_descent_gram(\n",
      ".C:\\Users\\tthoresen\\Anaconda3\\lib\\site-packages\\sklearn\\linear_model\\_coordinate_descent.py:526: ConvergenceWarning: Objective did not converge. You might want to increase the number of iterations. Duality gap: 896.0796087766066, tolerance: 652.0377767847159\n",
      "  model = cd_fast.enet_coordinate_descent_gram(\n",
      ".C:\\Users\\tthoresen\\Anaconda3\\lib\\site-packages\\sklearn\\linear_model\\_coordinate_descent.py:526: ConvergenceWarning: Objective did not converge. You might want to increase the number of iterations. Duality gap: 2434.7739123406354, tolerance: 652.0377767847159\n",
      "  model = cd_fast.enet_coordinate_descent_gram(\n",
      ".C:\\Users\\tthoresen\\Anaconda3\\lib\\site-packages\\sklearn\\linear_model\\_coordinate_descent.py:526: ConvergenceWarning: Objective did not converge. You might want to increase the number of iterations. Duality gap: 2336.776355960639, tolerance: 652.0377767847159\n",
      "  model = cd_fast.enet_coordinate_descent_gram(\n",
      ".C:\\Users\\tthoresen\\Anaconda3\\lib\\site-packages\\sklearn\\linear_model\\_coordinate_descent.py:526: ConvergenceWarning: Objective did not converge. You might want to increase the number of iterations. Duality gap: 1841.6541009761859, tolerance: 652.0377767847159\n",
      "  model = cd_fast.enet_coordinate_descent_gram(\n",
      ".C:\\Users\\tthoresen\\Anaconda3\\lib\\site-packages\\sklearn\\linear_model\\_coordinate_descent.py:526: ConvergenceWarning: Objective did not converge. You might want to increase the number of iterations. Duality gap: 1827.010331813246, tolerance: 652.0377767847159\n",
      "  model = cd_fast.enet_coordinate_descent_gram(\n",
      ".C:\\Users\\tthoresen\\Anaconda3\\lib\\site-packages\\sklearn\\linear_model\\_coordinate_descent.py:526: ConvergenceWarning: Objective did not converge. You might want to increase the number of iterations. Duality gap: 737.9858622073662, tolerance: 652.0377767847159\n",
      "  model = cd_fast.enet_coordinate_descent_gram(\n",
      ".C:\\Users\\tthoresen\\Anaconda3\\lib\\site-packages\\sklearn\\linear_model\\_coordinate_descent.py:526: ConvergenceWarning: Objective did not converge. You might want to increase the number of iterations. Duality gap: 944.1126554150833, tolerance: 652.0377767847159\n",
      "  model = cd_fast.enet_coordinate_descent_gram(\n"
     ]
    },
    {
     "name": "stderr",
     "output_type": "stream",
     "text": [
      ".[Parallel(n_jobs=4)]: Done   3 out of   3 | elapsed:    4.1s finished\n"
     ]
    }
   ],
   "source": [
    "fitted = {}\n",
    "out_preds = {}\n",
    "for y in y_cols:\n",
    "    drop_cols = [x for x in y_cols if x!=y]\n",
    "    y_train = df_y.drop(drop_cols, axis=1).values.flatten()\n",
    "    model = make_pipeline(linear_preprocessor, LassoCV(n_jobs=4, cv=3, verbose=True, selection=\"random\", max_iter=1000))\n",
    "    model.fit(df_X, y_train)\n",
    "    fitted[y] = model\n",
    "    out_preds[y] = model.predict(df_X)"
   ]
  },
  {
   "cell_type": "code",
   "execution_count": null,
   "id": "de34e4a7",
   "metadata": {},
   "outputs": [],
   "source": [
    "out_preds"
   ]
  },
  {
   "cell_type": "markdown",
   "id": "305e801e",
   "metadata": {},
   "source": [
    "# Apply same preprocessing to input prediction data"
   ]
  },
  {
   "cell_type": "code",
   "execution_count": 77,
   "id": "a82d0802",
   "metadata": {},
   "outputs": [],
   "source": [
    "pred_df = pd.read_parquet(\"../container-data/prediction_input.parquet\")\n",
    "pred_df = common_prep(pred_df)\n",
    "pred_df_prep = preprocessing(pred_df)"
   ]
  },
  {
   "cell_type": "code",
   "execution_count": 84,
   "id": "c6bbf590",
   "metadata": {},
   "outputs": [
    {
     "data": {
      "text/plain": [
       "Unit_4_Power                      0\n",
       "Unit_4_Reactive Power             0\n",
       "Turbine_Guide Vane Opening        0\n",
       "Turbine_Pressure Drafttube        0\n",
       "Turbine_Pressure Spiral Casing    0\n",
       "Turbine_Rotational Speed          0\n",
       "mode                              0\n",
       "mode_switch                       0\n",
       "sec_since_switch                  0\n",
       "days_since_start                  0\n",
       "dtype: int64"
      ]
     },
     "execution_count": 84,
     "metadata": {},
     "output_type": "execute_result"
    }
   ],
   "source": [
    "pred_df.loc[:,df_X.columns].isnull()"
   ]
  },
  {
   "cell_type": "markdown",
   "id": "88e58952",
   "metadata": {},
   "source": [
    "## Make predictions with final model for submission"
   ]
  },
  {
   "cell_type": "code",
   "execution_count": 86,
   "id": "930b5cf1",
   "metadata": {},
   "outputs": [
    {
     "name": "stderr",
     "output_type": "stream",
     "text": [
      "C:\\Users\\tthoresen\\Anaconda3\\lib\\site-packages\\numpy\\lib\\arraysetops.py:579: FutureWarning: elementwise comparison failed; returning scalar instead, but in the future will perform elementwise comparison\n",
      "  mask &= (ar1 != a)\n",
      "C:\\Users\\tthoresen\\Anaconda3\\lib\\site-packages\\numpy\\lib\\arraysetops.py:583: FutureWarning: elementwise comparison failed; returning scalar instead, but in the future will perform elementwise comparison\n",
      "  mask |= (ar1 == a)\n"
     ]
    },
    {
     "ename": "TypeError",
     "evalue": "ufunc 'isnan' not supported for the input types, and the inputs could not be safely coerced to any supported types according to the casting rule ''safe''",
     "output_type": "error",
     "traceback": [
      "\u001b[1;31m---------------------------------------------------------------------------\u001b[0m",
      "\u001b[1;31mTypeError\u001b[0m                                 Traceback (most recent call last)",
      "\u001b[1;32mC:\\Users\\TTHORE~1\\AppData\\Local\\Temp/ipykernel_9080/2520612476.py\u001b[0m in \u001b[0;36m<module>\u001b[1;34m\u001b[0m\n\u001b[0;32m      1\u001b[0m \u001b[1;32mfor\u001b[0m \u001b[0my_col\u001b[0m\u001b[1;33m,\u001b[0m \u001b[0mpipeline\u001b[0m \u001b[1;32min\u001b[0m \u001b[0mfitted\u001b[0m\u001b[1;33m.\u001b[0m\u001b[0mitems\u001b[0m\u001b[1;33m(\u001b[0m\u001b[1;33m)\u001b[0m\u001b[1;33m:\u001b[0m\u001b[1;33m\u001b[0m\u001b[1;33m\u001b[0m\u001b[0m\n\u001b[1;32m----> 2\u001b[1;33m     \u001b[0mpred_df\u001b[0m\u001b[1;33m[\u001b[0m\u001b[0my_col\u001b[0m\u001b[1;33m]\u001b[0m \u001b[1;33m=\u001b[0m \u001b[0mpipeline\u001b[0m\u001b[1;33m.\u001b[0m\u001b[0mpredict\u001b[0m\u001b[1;33m(\u001b[0m\u001b[0mpred_df\u001b[0m\u001b[1;33m.\u001b[0m\u001b[0mloc\u001b[0m\u001b[1;33m[\u001b[0m\u001b[1;33m:\u001b[0m\u001b[1;33m,\u001b[0m\u001b[0mdf_X\u001b[0m\u001b[1;33m.\u001b[0m\u001b[0mcolumns\u001b[0m\u001b[1;33m]\u001b[0m\u001b[1;33m)\u001b[0m\u001b[1;33m\u001b[0m\u001b[1;33m\u001b[0m\u001b[0m\n\u001b[0m",
      "\u001b[1;32m~\\Anaconda3\\lib\\site-packages\\sklearn\\utils\\metaestimators.py\u001b[0m in \u001b[0;36m<lambda>\u001b[1;34m(*args, **kwargs)\u001b[0m\n\u001b[0;32m    118\u001b[0m \u001b[1;33m\u001b[0m\u001b[0m\n\u001b[0;32m    119\u001b[0m         \u001b[1;31m# lambda, but not partial, allows help() to work with update_wrapper\u001b[0m\u001b[1;33m\u001b[0m\u001b[1;33m\u001b[0m\u001b[0m\n\u001b[1;32m--> 120\u001b[1;33m         \u001b[0mout\u001b[0m \u001b[1;33m=\u001b[0m \u001b[1;32mlambda\u001b[0m \u001b[1;33m*\u001b[0m\u001b[0margs\u001b[0m\u001b[1;33m,\u001b[0m \u001b[1;33m**\u001b[0m\u001b[0mkwargs\u001b[0m\u001b[1;33m:\u001b[0m \u001b[0mself\u001b[0m\u001b[1;33m.\u001b[0m\u001b[0mfn\u001b[0m\u001b[1;33m(\u001b[0m\u001b[0mobj\u001b[0m\u001b[1;33m,\u001b[0m \u001b[1;33m*\u001b[0m\u001b[0margs\u001b[0m\u001b[1;33m,\u001b[0m \u001b[1;33m**\u001b[0m\u001b[0mkwargs\u001b[0m\u001b[1;33m)\u001b[0m\u001b[1;33m\u001b[0m\u001b[1;33m\u001b[0m\u001b[0m\n\u001b[0m\u001b[0;32m    121\u001b[0m         \u001b[1;31m# update the docstring of the returned function\u001b[0m\u001b[1;33m\u001b[0m\u001b[1;33m\u001b[0m\u001b[0m\n\u001b[0;32m    122\u001b[0m         \u001b[0mupdate_wrapper\u001b[0m\u001b[1;33m(\u001b[0m\u001b[0mout\u001b[0m\u001b[1;33m,\u001b[0m \u001b[0mself\u001b[0m\u001b[1;33m.\u001b[0m\u001b[0mfn\u001b[0m\u001b[1;33m)\u001b[0m\u001b[1;33m\u001b[0m\u001b[1;33m\u001b[0m\u001b[0m\n",
      "\u001b[1;32m~\\Anaconda3\\lib\\site-packages\\sklearn\\pipeline.py\u001b[0m in \u001b[0;36mpredict\u001b[1;34m(self, X, **predict_params)\u001b[0m\n\u001b[0;32m    416\u001b[0m         \u001b[0mXt\u001b[0m \u001b[1;33m=\u001b[0m \u001b[0mX\u001b[0m\u001b[1;33m\u001b[0m\u001b[1;33m\u001b[0m\u001b[0m\n\u001b[0;32m    417\u001b[0m         \u001b[1;32mfor\u001b[0m \u001b[0m_\u001b[0m\u001b[1;33m,\u001b[0m \u001b[0mname\u001b[0m\u001b[1;33m,\u001b[0m \u001b[0mtransform\u001b[0m \u001b[1;32min\u001b[0m \u001b[0mself\u001b[0m\u001b[1;33m.\u001b[0m\u001b[0m_iter\u001b[0m\u001b[1;33m(\u001b[0m\u001b[0mwith_final\u001b[0m\u001b[1;33m=\u001b[0m\u001b[1;32mFalse\u001b[0m\u001b[1;33m)\u001b[0m\u001b[1;33m:\u001b[0m\u001b[1;33m\u001b[0m\u001b[1;33m\u001b[0m\u001b[0m\n\u001b[1;32m--> 418\u001b[1;33m             \u001b[0mXt\u001b[0m \u001b[1;33m=\u001b[0m \u001b[0mtransform\u001b[0m\u001b[1;33m.\u001b[0m\u001b[0mtransform\u001b[0m\u001b[1;33m(\u001b[0m\u001b[0mXt\u001b[0m\u001b[1;33m)\u001b[0m\u001b[1;33m\u001b[0m\u001b[1;33m\u001b[0m\u001b[0m\n\u001b[0m\u001b[0;32m    419\u001b[0m         \u001b[1;32mreturn\u001b[0m \u001b[0mself\u001b[0m\u001b[1;33m.\u001b[0m\u001b[0msteps\u001b[0m\u001b[1;33m[\u001b[0m\u001b[1;33m-\u001b[0m\u001b[1;36m1\u001b[0m\u001b[1;33m]\u001b[0m\u001b[1;33m[\u001b[0m\u001b[1;33m-\u001b[0m\u001b[1;36m1\u001b[0m\u001b[1;33m]\u001b[0m\u001b[1;33m.\u001b[0m\u001b[0mpredict\u001b[0m\u001b[1;33m(\u001b[0m\u001b[0mXt\u001b[0m\u001b[1;33m,\u001b[0m \u001b[1;33m**\u001b[0m\u001b[0mpredict_params\u001b[0m\u001b[1;33m)\u001b[0m\u001b[1;33m\u001b[0m\u001b[1;33m\u001b[0m\u001b[0m\n\u001b[0;32m    420\u001b[0m \u001b[1;33m\u001b[0m\u001b[0m\n",
      "\u001b[1;32m~\\Anaconda3\\lib\\site-packages\\sklearn\\compose\\_column_transformer.py\u001b[0m in \u001b[0;36mtransform\u001b[1;34m(self, X)\u001b[0m\n\u001b[0;32m    562\u001b[0m                 \u001b[1;34m\"data given during fit.\"\u001b[0m\u001b[1;33m\u001b[0m\u001b[1;33m\u001b[0m\u001b[0m\n\u001b[0;32m    563\u001b[0m             )\n\u001b[1;32m--> 564\u001b[1;33m         \u001b[0mXs\u001b[0m \u001b[1;33m=\u001b[0m \u001b[0mself\u001b[0m\u001b[1;33m.\u001b[0m\u001b[0m_fit_transform\u001b[0m\u001b[1;33m(\u001b[0m\u001b[0mX\u001b[0m\u001b[1;33m,\u001b[0m \u001b[1;32mNone\u001b[0m\u001b[1;33m,\u001b[0m \u001b[0m_transform_one\u001b[0m\u001b[1;33m,\u001b[0m \u001b[0mfitted\u001b[0m\u001b[1;33m=\u001b[0m\u001b[1;32mTrue\u001b[0m\u001b[1;33m)\u001b[0m\u001b[1;33m\u001b[0m\u001b[1;33m\u001b[0m\u001b[0m\n\u001b[0m\u001b[0;32m    565\u001b[0m         \u001b[0mself\u001b[0m\u001b[1;33m.\u001b[0m\u001b[0m_validate_output\u001b[0m\u001b[1;33m(\u001b[0m\u001b[0mXs\u001b[0m\u001b[1;33m)\u001b[0m\u001b[1;33m\u001b[0m\u001b[1;33m\u001b[0m\u001b[0m\n\u001b[0;32m    566\u001b[0m \u001b[1;33m\u001b[0m\u001b[0m\n",
      "\u001b[1;32m~\\Anaconda3\\lib\\site-packages\\sklearn\\compose\\_column_transformer.py\u001b[0m in \u001b[0;36m_fit_transform\u001b[1;34m(self, X, y, func, fitted)\u001b[0m\n\u001b[0;32m    432\u001b[0m             self._iter(fitted=fitted, replace_strings=True))\n\u001b[0;32m    433\u001b[0m         \u001b[1;32mtry\u001b[0m\u001b[1;33m:\u001b[0m\u001b[1;33m\u001b[0m\u001b[1;33m\u001b[0m\u001b[0m\n\u001b[1;32m--> 434\u001b[1;33m             return Parallel(n_jobs=self.n_jobs)(\n\u001b[0m\u001b[0;32m    435\u001b[0m                 delayed(func)(\n\u001b[0;32m    436\u001b[0m                     \u001b[0mtransformer\u001b[0m\u001b[1;33m=\u001b[0m\u001b[0mclone\u001b[0m\u001b[1;33m(\u001b[0m\u001b[0mtrans\u001b[0m\u001b[1;33m)\u001b[0m \u001b[1;32mif\u001b[0m \u001b[1;32mnot\u001b[0m \u001b[0mfitted\u001b[0m \u001b[1;32melse\u001b[0m \u001b[0mtrans\u001b[0m\u001b[1;33m,\u001b[0m\u001b[1;33m\u001b[0m\u001b[1;33m\u001b[0m\u001b[0m\n",
      "\u001b[1;32m~\\Anaconda3\\lib\\site-packages\\joblib\\parallel.py\u001b[0m in \u001b[0;36m__call__\u001b[1;34m(self, iterable)\u001b[0m\n\u001b[0;32m   1044\u001b[0m                 \u001b[0mself\u001b[0m\u001b[1;33m.\u001b[0m\u001b[0m_iterating\u001b[0m \u001b[1;33m=\u001b[0m \u001b[0mself\u001b[0m\u001b[1;33m.\u001b[0m\u001b[0m_original_iterator\u001b[0m \u001b[1;32mis\u001b[0m \u001b[1;32mnot\u001b[0m \u001b[1;32mNone\u001b[0m\u001b[1;33m\u001b[0m\u001b[1;33m\u001b[0m\u001b[0m\n\u001b[0;32m   1045\u001b[0m \u001b[1;33m\u001b[0m\u001b[0m\n\u001b[1;32m-> 1046\u001b[1;33m             \u001b[1;32mwhile\u001b[0m \u001b[0mself\u001b[0m\u001b[1;33m.\u001b[0m\u001b[0mdispatch_one_batch\u001b[0m\u001b[1;33m(\u001b[0m\u001b[0miterator\u001b[0m\u001b[1;33m)\u001b[0m\u001b[1;33m:\u001b[0m\u001b[1;33m\u001b[0m\u001b[1;33m\u001b[0m\u001b[0m\n\u001b[0m\u001b[0;32m   1047\u001b[0m                 \u001b[1;32mpass\u001b[0m\u001b[1;33m\u001b[0m\u001b[1;33m\u001b[0m\u001b[0m\n\u001b[0;32m   1048\u001b[0m \u001b[1;33m\u001b[0m\u001b[0m\n",
      "\u001b[1;32m~\\Anaconda3\\lib\\site-packages\\joblib\\parallel.py\u001b[0m in \u001b[0;36mdispatch_one_batch\u001b[1;34m(self, iterator)\u001b[0m\n\u001b[0;32m    859\u001b[0m                 \u001b[1;32mreturn\u001b[0m \u001b[1;32mFalse\u001b[0m\u001b[1;33m\u001b[0m\u001b[1;33m\u001b[0m\u001b[0m\n\u001b[0;32m    860\u001b[0m             \u001b[1;32melse\u001b[0m\u001b[1;33m:\u001b[0m\u001b[1;33m\u001b[0m\u001b[1;33m\u001b[0m\u001b[0m\n\u001b[1;32m--> 861\u001b[1;33m                 \u001b[0mself\u001b[0m\u001b[1;33m.\u001b[0m\u001b[0m_dispatch\u001b[0m\u001b[1;33m(\u001b[0m\u001b[0mtasks\u001b[0m\u001b[1;33m)\u001b[0m\u001b[1;33m\u001b[0m\u001b[1;33m\u001b[0m\u001b[0m\n\u001b[0m\u001b[0;32m    862\u001b[0m                 \u001b[1;32mreturn\u001b[0m \u001b[1;32mTrue\u001b[0m\u001b[1;33m\u001b[0m\u001b[1;33m\u001b[0m\u001b[0m\n\u001b[0;32m    863\u001b[0m \u001b[1;33m\u001b[0m\u001b[0m\n",
      "\u001b[1;32m~\\Anaconda3\\lib\\site-packages\\joblib\\parallel.py\u001b[0m in \u001b[0;36m_dispatch\u001b[1;34m(self, batch)\u001b[0m\n\u001b[0;32m    777\u001b[0m         \u001b[1;32mwith\u001b[0m \u001b[0mself\u001b[0m\u001b[1;33m.\u001b[0m\u001b[0m_lock\u001b[0m\u001b[1;33m:\u001b[0m\u001b[1;33m\u001b[0m\u001b[1;33m\u001b[0m\u001b[0m\n\u001b[0;32m    778\u001b[0m             \u001b[0mjob_idx\u001b[0m \u001b[1;33m=\u001b[0m \u001b[0mlen\u001b[0m\u001b[1;33m(\u001b[0m\u001b[0mself\u001b[0m\u001b[1;33m.\u001b[0m\u001b[0m_jobs\u001b[0m\u001b[1;33m)\u001b[0m\u001b[1;33m\u001b[0m\u001b[1;33m\u001b[0m\u001b[0m\n\u001b[1;32m--> 779\u001b[1;33m             \u001b[0mjob\u001b[0m \u001b[1;33m=\u001b[0m \u001b[0mself\u001b[0m\u001b[1;33m.\u001b[0m\u001b[0m_backend\u001b[0m\u001b[1;33m.\u001b[0m\u001b[0mapply_async\u001b[0m\u001b[1;33m(\u001b[0m\u001b[0mbatch\u001b[0m\u001b[1;33m,\u001b[0m \u001b[0mcallback\u001b[0m\u001b[1;33m=\u001b[0m\u001b[0mcb\u001b[0m\u001b[1;33m)\u001b[0m\u001b[1;33m\u001b[0m\u001b[1;33m\u001b[0m\u001b[0m\n\u001b[0m\u001b[0;32m    780\u001b[0m             \u001b[1;31m# A job can complete so quickly than its callback is\u001b[0m\u001b[1;33m\u001b[0m\u001b[1;33m\u001b[0m\u001b[0m\n\u001b[0;32m    781\u001b[0m             \u001b[1;31m# called before we get here, causing self._jobs to\u001b[0m\u001b[1;33m\u001b[0m\u001b[1;33m\u001b[0m\u001b[0m\n",
      "\u001b[1;32m~\\Anaconda3\\lib\\site-packages\\joblib\\_parallel_backends.py\u001b[0m in \u001b[0;36mapply_async\u001b[1;34m(self, func, callback)\u001b[0m\n\u001b[0;32m    206\u001b[0m     \u001b[1;32mdef\u001b[0m \u001b[0mapply_async\u001b[0m\u001b[1;33m(\u001b[0m\u001b[0mself\u001b[0m\u001b[1;33m,\u001b[0m \u001b[0mfunc\u001b[0m\u001b[1;33m,\u001b[0m \u001b[0mcallback\u001b[0m\u001b[1;33m=\u001b[0m\u001b[1;32mNone\u001b[0m\u001b[1;33m)\u001b[0m\u001b[1;33m:\u001b[0m\u001b[1;33m\u001b[0m\u001b[1;33m\u001b[0m\u001b[0m\n\u001b[0;32m    207\u001b[0m         \u001b[1;34m\"\"\"Schedule a func to be run\"\"\"\u001b[0m\u001b[1;33m\u001b[0m\u001b[1;33m\u001b[0m\u001b[0m\n\u001b[1;32m--> 208\u001b[1;33m         \u001b[0mresult\u001b[0m \u001b[1;33m=\u001b[0m \u001b[0mImmediateResult\u001b[0m\u001b[1;33m(\u001b[0m\u001b[0mfunc\u001b[0m\u001b[1;33m)\u001b[0m\u001b[1;33m\u001b[0m\u001b[1;33m\u001b[0m\u001b[0m\n\u001b[0m\u001b[0;32m    209\u001b[0m         \u001b[1;32mif\u001b[0m \u001b[0mcallback\u001b[0m\u001b[1;33m:\u001b[0m\u001b[1;33m\u001b[0m\u001b[1;33m\u001b[0m\u001b[0m\n\u001b[0;32m    210\u001b[0m             \u001b[0mcallback\u001b[0m\u001b[1;33m(\u001b[0m\u001b[0mresult\u001b[0m\u001b[1;33m)\u001b[0m\u001b[1;33m\u001b[0m\u001b[1;33m\u001b[0m\u001b[0m\n",
      "\u001b[1;32m~\\Anaconda3\\lib\\site-packages\\joblib\\_parallel_backends.py\u001b[0m in \u001b[0;36m__init__\u001b[1;34m(self, batch)\u001b[0m\n\u001b[0;32m    570\u001b[0m         \u001b[1;31m# Don't delay the application, to avoid keeping the input\u001b[0m\u001b[1;33m\u001b[0m\u001b[1;33m\u001b[0m\u001b[0m\n\u001b[0;32m    571\u001b[0m         \u001b[1;31m# arguments in memory\u001b[0m\u001b[1;33m\u001b[0m\u001b[1;33m\u001b[0m\u001b[0m\n\u001b[1;32m--> 572\u001b[1;33m         \u001b[0mself\u001b[0m\u001b[1;33m.\u001b[0m\u001b[0mresults\u001b[0m \u001b[1;33m=\u001b[0m \u001b[0mbatch\u001b[0m\u001b[1;33m(\u001b[0m\u001b[1;33m)\u001b[0m\u001b[1;33m\u001b[0m\u001b[1;33m\u001b[0m\u001b[0m\n\u001b[0m\u001b[0;32m    573\u001b[0m \u001b[1;33m\u001b[0m\u001b[0m\n\u001b[0;32m    574\u001b[0m     \u001b[1;32mdef\u001b[0m \u001b[0mget\u001b[0m\u001b[1;33m(\u001b[0m\u001b[0mself\u001b[0m\u001b[1;33m)\u001b[0m\u001b[1;33m:\u001b[0m\u001b[1;33m\u001b[0m\u001b[1;33m\u001b[0m\u001b[0m\n",
      "\u001b[1;32m~\\Anaconda3\\lib\\site-packages\\joblib\\parallel.py\u001b[0m in \u001b[0;36m__call__\u001b[1;34m(self)\u001b[0m\n\u001b[0;32m    260\u001b[0m         \u001b[1;31m# change the default number of processes to -1\u001b[0m\u001b[1;33m\u001b[0m\u001b[1;33m\u001b[0m\u001b[0m\n\u001b[0;32m    261\u001b[0m         \u001b[1;32mwith\u001b[0m \u001b[0mparallel_backend\u001b[0m\u001b[1;33m(\u001b[0m\u001b[0mself\u001b[0m\u001b[1;33m.\u001b[0m\u001b[0m_backend\u001b[0m\u001b[1;33m,\u001b[0m \u001b[0mn_jobs\u001b[0m\u001b[1;33m=\u001b[0m\u001b[0mself\u001b[0m\u001b[1;33m.\u001b[0m\u001b[0m_n_jobs\u001b[0m\u001b[1;33m)\u001b[0m\u001b[1;33m:\u001b[0m\u001b[1;33m\u001b[0m\u001b[1;33m\u001b[0m\u001b[0m\n\u001b[1;32m--> 262\u001b[1;33m             return [func(*args, **kwargs)\n\u001b[0m\u001b[0;32m    263\u001b[0m                     for func, args, kwargs in self.items]\n\u001b[0;32m    264\u001b[0m \u001b[1;33m\u001b[0m\u001b[0m\n",
      "\u001b[1;32m~\\Anaconda3\\lib\\site-packages\\joblib\\parallel.py\u001b[0m in \u001b[0;36m<listcomp>\u001b[1;34m(.0)\u001b[0m\n\u001b[0;32m    260\u001b[0m         \u001b[1;31m# change the default number of processes to -1\u001b[0m\u001b[1;33m\u001b[0m\u001b[1;33m\u001b[0m\u001b[0m\n\u001b[0;32m    261\u001b[0m         \u001b[1;32mwith\u001b[0m \u001b[0mparallel_backend\u001b[0m\u001b[1;33m(\u001b[0m\u001b[0mself\u001b[0m\u001b[1;33m.\u001b[0m\u001b[0m_backend\u001b[0m\u001b[1;33m,\u001b[0m \u001b[0mn_jobs\u001b[0m\u001b[1;33m=\u001b[0m\u001b[0mself\u001b[0m\u001b[1;33m.\u001b[0m\u001b[0m_n_jobs\u001b[0m\u001b[1;33m)\u001b[0m\u001b[1;33m:\u001b[0m\u001b[1;33m\u001b[0m\u001b[1;33m\u001b[0m\u001b[0m\n\u001b[1;32m--> 262\u001b[1;33m             return [func(*args, **kwargs)\n\u001b[0m\u001b[0;32m    263\u001b[0m                     for func, args, kwargs in self.items]\n\u001b[0;32m    264\u001b[0m \u001b[1;33m\u001b[0m\u001b[0m\n",
      "\u001b[1;32m~\\Anaconda3\\lib\\site-packages\\sklearn\\utils\\fixes.py\u001b[0m in \u001b[0;36m__call__\u001b[1;34m(self, *args, **kwargs)\u001b[0m\n\u001b[0;32m    220\u001b[0m     \u001b[1;32mdef\u001b[0m \u001b[0m__call__\u001b[0m\u001b[1;33m(\u001b[0m\u001b[0mself\u001b[0m\u001b[1;33m,\u001b[0m \u001b[1;33m*\u001b[0m\u001b[0margs\u001b[0m\u001b[1;33m,\u001b[0m \u001b[1;33m**\u001b[0m\u001b[0mkwargs\u001b[0m\u001b[1;33m)\u001b[0m\u001b[1;33m:\u001b[0m\u001b[1;33m\u001b[0m\u001b[1;33m\u001b[0m\u001b[0m\n\u001b[0;32m    221\u001b[0m         \u001b[1;32mwith\u001b[0m \u001b[0mconfig_context\u001b[0m\u001b[1;33m(\u001b[0m\u001b[1;33m**\u001b[0m\u001b[0mself\u001b[0m\u001b[1;33m.\u001b[0m\u001b[0mconfig\u001b[0m\u001b[1;33m)\u001b[0m\u001b[1;33m:\u001b[0m\u001b[1;33m\u001b[0m\u001b[1;33m\u001b[0m\u001b[0m\n\u001b[1;32m--> 222\u001b[1;33m             \u001b[1;32mreturn\u001b[0m \u001b[0mself\u001b[0m\u001b[1;33m.\u001b[0m\u001b[0mfunction\u001b[0m\u001b[1;33m(\u001b[0m\u001b[1;33m*\u001b[0m\u001b[0margs\u001b[0m\u001b[1;33m,\u001b[0m \u001b[1;33m**\u001b[0m\u001b[0mkwargs\u001b[0m\u001b[1;33m)\u001b[0m\u001b[1;33m\u001b[0m\u001b[1;33m\u001b[0m\u001b[0m\n\u001b[0m",
      "\u001b[1;32m~\\Anaconda3\\lib\\site-packages\\sklearn\\pipeline.py\u001b[0m in \u001b[0;36m_transform_one\u001b[1;34m(transformer, X, y, weight, **fit_params)\u001b[0m\n\u001b[0;32m    731\u001b[0m \u001b[1;33m\u001b[0m\u001b[0m\n\u001b[0;32m    732\u001b[0m \u001b[1;32mdef\u001b[0m \u001b[0m_transform_one\u001b[0m\u001b[1;33m(\u001b[0m\u001b[0mtransformer\u001b[0m\u001b[1;33m,\u001b[0m \u001b[0mX\u001b[0m\u001b[1;33m,\u001b[0m \u001b[0my\u001b[0m\u001b[1;33m,\u001b[0m \u001b[0mweight\u001b[0m\u001b[1;33m,\u001b[0m \u001b[1;33m**\u001b[0m\u001b[0mfit_params\u001b[0m\u001b[1;33m)\u001b[0m\u001b[1;33m:\u001b[0m\u001b[1;33m\u001b[0m\u001b[1;33m\u001b[0m\u001b[0m\n\u001b[1;32m--> 733\u001b[1;33m     \u001b[0mres\u001b[0m \u001b[1;33m=\u001b[0m \u001b[0mtransformer\u001b[0m\u001b[1;33m.\u001b[0m\u001b[0mtransform\u001b[0m\u001b[1;33m(\u001b[0m\u001b[0mX\u001b[0m\u001b[1;33m)\u001b[0m\u001b[1;33m\u001b[0m\u001b[1;33m\u001b[0m\u001b[0m\n\u001b[0m\u001b[0;32m    734\u001b[0m     \u001b[1;31m# if we have a weight for this transformer, multiply output\u001b[0m\u001b[1;33m\u001b[0m\u001b[1;33m\u001b[0m\u001b[0m\n\u001b[0;32m    735\u001b[0m     \u001b[1;32mif\u001b[0m \u001b[0mweight\u001b[0m \u001b[1;32mis\u001b[0m \u001b[1;32mNone\u001b[0m\u001b[1;33m:\u001b[0m\u001b[1;33m\u001b[0m\u001b[1;33m\u001b[0m\u001b[0m\n",
      "\u001b[1;32m~\\Anaconda3\\lib\\site-packages\\sklearn\\preprocessing\\_encoders.py\u001b[0m in \u001b[0;36mtransform\u001b[1;34m(self, X)\u001b[0m\n\u001b[0;32m    469\u001b[0m         \u001b[0mcheck_is_fitted\u001b[0m\u001b[1;33m(\u001b[0m\u001b[0mself\u001b[0m\u001b[1;33m)\u001b[0m\u001b[1;33m\u001b[0m\u001b[1;33m\u001b[0m\u001b[0m\n\u001b[0;32m    470\u001b[0m         \u001b[1;31m# validation of X happens in _check_X called by _transform\u001b[0m\u001b[1;33m\u001b[0m\u001b[1;33m\u001b[0m\u001b[0m\n\u001b[1;32m--> 471\u001b[1;33m         X_int, X_mask = self._transform(X, handle_unknown=self.handle_unknown,\n\u001b[0m\u001b[0;32m    472\u001b[0m                                         force_all_finite='allow-nan')\n\u001b[0;32m    473\u001b[0m \u001b[1;33m\u001b[0m\u001b[0m\n",
      "\u001b[1;32m~\\Anaconda3\\lib\\site-packages\\sklearn\\preprocessing\\_encoders.py\u001b[0m in \u001b[0;36m_transform\u001b[1;34m(self, X, handle_unknown, force_all_finite)\u001b[0m\n\u001b[0;32m    127\u001b[0m         \u001b[1;32mfor\u001b[0m \u001b[0mi\u001b[0m \u001b[1;32min\u001b[0m \u001b[0mrange\u001b[0m\u001b[1;33m(\u001b[0m\u001b[0mn_features\u001b[0m\u001b[1;33m)\u001b[0m\u001b[1;33m:\u001b[0m\u001b[1;33m\u001b[0m\u001b[1;33m\u001b[0m\u001b[0m\n\u001b[0;32m    128\u001b[0m             \u001b[0mXi\u001b[0m \u001b[1;33m=\u001b[0m \u001b[0mX_list\u001b[0m\u001b[1;33m[\u001b[0m\u001b[0mi\u001b[0m\u001b[1;33m]\u001b[0m\u001b[1;33m\u001b[0m\u001b[1;33m\u001b[0m\u001b[0m\n\u001b[1;32m--> 129\u001b[1;33m             diff, valid_mask = _check_unknown(Xi, self.categories_[i],\n\u001b[0m\u001b[0;32m    130\u001b[0m                                               return_mask=True)\n\u001b[0;32m    131\u001b[0m \u001b[1;33m\u001b[0m\u001b[0m\n",
      "\u001b[1;32m~\\Anaconda3\\lib\\site-packages\\sklearn\\utils\\_encode.py\u001b[0m in \u001b[0;36m_check_unknown\u001b[1;34m(values, known_values, return_mask)\u001b[0m\n\u001b[0;32m    253\u001b[0m \u001b[1;33m\u001b[0m\u001b[0m\n\u001b[0;32m    254\u001b[0m         \u001b[1;31m# check for nans in the known_values\u001b[0m\u001b[1;33m\u001b[0m\u001b[1;33m\u001b[0m\u001b[0m\n\u001b[1;32m--> 255\u001b[1;33m         \u001b[1;32mif\u001b[0m \u001b[0mnp\u001b[0m\u001b[1;33m.\u001b[0m\u001b[0misnan\u001b[0m\u001b[1;33m(\u001b[0m\u001b[0mknown_values\u001b[0m\u001b[1;33m)\u001b[0m\u001b[1;33m.\u001b[0m\u001b[0many\u001b[0m\u001b[1;33m(\u001b[0m\u001b[1;33m)\u001b[0m\u001b[1;33m:\u001b[0m\u001b[1;33m\u001b[0m\u001b[1;33m\u001b[0m\u001b[0m\n\u001b[0m\u001b[0;32m    256\u001b[0m             \u001b[0mdiff_is_nan\u001b[0m \u001b[1;33m=\u001b[0m \u001b[0mnp\u001b[0m\u001b[1;33m.\u001b[0m\u001b[0misnan\u001b[0m\u001b[1;33m(\u001b[0m\u001b[0mdiff\u001b[0m\u001b[1;33m)\u001b[0m\u001b[1;33m\u001b[0m\u001b[1;33m\u001b[0m\u001b[0m\n\u001b[0;32m    257\u001b[0m             \u001b[1;32mif\u001b[0m \u001b[0mdiff_is_nan\u001b[0m\u001b[1;33m.\u001b[0m\u001b[0many\u001b[0m\u001b[1;33m(\u001b[0m\u001b[1;33m)\u001b[0m\u001b[1;33m:\u001b[0m\u001b[1;33m\u001b[0m\u001b[1;33m\u001b[0m\u001b[0m\n",
      "\u001b[1;31mTypeError\u001b[0m: ufunc 'isnan' not supported for the input types, and the inputs could not be safely coerced to any supported types according to the casting rule ''safe''"
     ]
    }
   ],
   "source": [
    "for y_col, pipeline in fitted.items():\n",
    "    pred_df[y_col] = pipeline.predict(pred_df.loc[:,df_X.columns])"
   ]
  },
  {
   "cell_type": "code",
   "execution_count": 78,
   "id": "98c87a58",
   "metadata": {},
   "outputs": [
    {
     "name": "stderr",
     "output_type": "stream",
     "text": [
      "C:\\Users\\tthoresen\\Anaconda3\\lib\\site-packages\\numpy\\lib\\arraysetops.py:579: FutureWarning: elementwise comparison failed; returning scalar instead, but in the future will perform elementwise comparison\n",
      "  mask &= (ar1 != a)\n",
      "C:\\Users\\tthoresen\\Anaconda3\\lib\\site-packages\\numpy\\lib\\arraysetops.py:583: FutureWarning: elementwise comparison failed; returning scalar instead, but in the future will perform elementwise comparison\n",
      "  mask |= (ar1 == a)\n"
     ]
    },
    {
     "ename": "TypeError",
     "evalue": "ufunc 'isnan' not supported for the input types, and the inputs could not be safely coerced to any supported types according to the casting rule ''safe''",
     "output_type": "error",
     "traceback": [
      "\u001b[1;31m---------------------------------------------------------------------------\u001b[0m",
      "\u001b[1;31mTypeError\u001b[0m                                 Traceback (most recent call last)",
      "\u001b[1;32mC:\\Users\\TTHORE~1\\AppData\\Local\\Temp/ipykernel_9080/1509601657.py\u001b[0m in \u001b[0;36m<module>\u001b[1;34m\u001b[0m\n\u001b[1;32m----> 1\u001b[1;33m \u001b[0mpreds\u001b[0m \u001b[1;33m=\u001b[0m \u001b[0mmodel\u001b[0m\u001b[1;33m.\u001b[0m\u001b[0mpredict\u001b[0m\u001b[1;33m(\u001b[0m\u001b[0mpred_df\u001b[0m\u001b[1;33m.\u001b[0m\u001b[0mloc\u001b[0m\u001b[1;33m[\u001b[0m\u001b[1;33m:\u001b[0m\u001b[1;33m,\u001b[0m\u001b[0mdf_X\u001b[0m\u001b[1;33m.\u001b[0m\u001b[0mcolumns\u001b[0m\u001b[1;33m]\u001b[0m\u001b[1;33m)\u001b[0m\u001b[1;33m\u001b[0m\u001b[1;33m\u001b[0m\u001b[0m\n\u001b[0m",
      "\u001b[1;32m~\\Anaconda3\\lib\\site-packages\\sklearn\\utils\\metaestimators.py\u001b[0m in \u001b[0;36m<lambda>\u001b[1;34m(*args, **kwargs)\u001b[0m\n\u001b[0;32m    118\u001b[0m \u001b[1;33m\u001b[0m\u001b[0m\n\u001b[0;32m    119\u001b[0m         \u001b[1;31m# lambda, but not partial, allows help() to work with update_wrapper\u001b[0m\u001b[1;33m\u001b[0m\u001b[1;33m\u001b[0m\u001b[0m\n\u001b[1;32m--> 120\u001b[1;33m         \u001b[0mout\u001b[0m \u001b[1;33m=\u001b[0m \u001b[1;32mlambda\u001b[0m \u001b[1;33m*\u001b[0m\u001b[0margs\u001b[0m\u001b[1;33m,\u001b[0m \u001b[1;33m**\u001b[0m\u001b[0mkwargs\u001b[0m\u001b[1;33m:\u001b[0m \u001b[0mself\u001b[0m\u001b[1;33m.\u001b[0m\u001b[0mfn\u001b[0m\u001b[1;33m(\u001b[0m\u001b[0mobj\u001b[0m\u001b[1;33m,\u001b[0m \u001b[1;33m*\u001b[0m\u001b[0margs\u001b[0m\u001b[1;33m,\u001b[0m \u001b[1;33m**\u001b[0m\u001b[0mkwargs\u001b[0m\u001b[1;33m)\u001b[0m\u001b[1;33m\u001b[0m\u001b[1;33m\u001b[0m\u001b[0m\n\u001b[0m\u001b[0;32m    121\u001b[0m         \u001b[1;31m# update the docstring of the returned function\u001b[0m\u001b[1;33m\u001b[0m\u001b[1;33m\u001b[0m\u001b[0m\n\u001b[0;32m    122\u001b[0m         \u001b[0mupdate_wrapper\u001b[0m\u001b[1;33m(\u001b[0m\u001b[0mout\u001b[0m\u001b[1;33m,\u001b[0m \u001b[0mself\u001b[0m\u001b[1;33m.\u001b[0m\u001b[0mfn\u001b[0m\u001b[1;33m)\u001b[0m\u001b[1;33m\u001b[0m\u001b[1;33m\u001b[0m\u001b[0m\n",
      "\u001b[1;32m~\\Anaconda3\\lib\\site-packages\\sklearn\\pipeline.py\u001b[0m in \u001b[0;36mpredict\u001b[1;34m(self, X, **predict_params)\u001b[0m\n\u001b[0;32m    416\u001b[0m         \u001b[0mXt\u001b[0m \u001b[1;33m=\u001b[0m \u001b[0mX\u001b[0m\u001b[1;33m\u001b[0m\u001b[1;33m\u001b[0m\u001b[0m\n\u001b[0;32m    417\u001b[0m         \u001b[1;32mfor\u001b[0m \u001b[0m_\u001b[0m\u001b[1;33m,\u001b[0m \u001b[0mname\u001b[0m\u001b[1;33m,\u001b[0m \u001b[0mtransform\u001b[0m \u001b[1;32min\u001b[0m \u001b[0mself\u001b[0m\u001b[1;33m.\u001b[0m\u001b[0m_iter\u001b[0m\u001b[1;33m(\u001b[0m\u001b[0mwith_final\u001b[0m\u001b[1;33m=\u001b[0m\u001b[1;32mFalse\u001b[0m\u001b[1;33m)\u001b[0m\u001b[1;33m:\u001b[0m\u001b[1;33m\u001b[0m\u001b[1;33m\u001b[0m\u001b[0m\n\u001b[1;32m--> 418\u001b[1;33m             \u001b[0mXt\u001b[0m \u001b[1;33m=\u001b[0m \u001b[0mtransform\u001b[0m\u001b[1;33m.\u001b[0m\u001b[0mtransform\u001b[0m\u001b[1;33m(\u001b[0m\u001b[0mXt\u001b[0m\u001b[1;33m)\u001b[0m\u001b[1;33m\u001b[0m\u001b[1;33m\u001b[0m\u001b[0m\n\u001b[0m\u001b[0;32m    419\u001b[0m         \u001b[1;32mreturn\u001b[0m \u001b[0mself\u001b[0m\u001b[1;33m.\u001b[0m\u001b[0msteps\u001b[0m\u001b[1;33m[\u001b[0m\u001b[1;33m-\u001b[0m\u001b[1;36m1\u001b[0m\u001b[1;33m]\u001b[0m\u001b[1;33m[\u001b[0m\u001b[1;33m-\u001b[0m\u001b[1;36m1\u001b[0m\u001b[1;33m]\u001b[0m\u001b[1;33m.\u001b[0m\u001b[0mpredict\u001b[0m\u001b[1;33m(\u001b[0m\u001b[0mXt\u001b[0m\u001b[1;33m,\u001b[0m \u001b[1;33m**\u001b[0m\u001b[0mpredict_params\u001b[0m\u001b[1;33m)\u001b[0m\u001b[1;33m\u001b[0m\u001b[1;33m\u001b[0m\u001b[0m\n\u001b[0;32m    420\u001b[0m \u001b[1;33m\u001b[0m\u001b[0m\n",
      "\u001b[1;32m~\\Anaconda3\\lib\\site-packages\\sklearn\\compose\\_column_transformer.py\u001b[0m in \u001b[0;36mtransform\u001b[1;34m(self, X)\u001b[0m\n\u001b[0;32m    562\u001b[0m                 \u001b[1;34m\"data given during fit.\"\u001b[0m\u001b[1;33m\u001b[0m\u001b[1;33m\u001b[0m\u001b[0m\n\u001b[0;32m    563\u001b[0m             )\n\u001b[1;32m--> 564\u001b[1;33m         \u001b[0mXs\u001b[0m \u001b[1;33m=\u001b[0m \u001b[0mself\u001b[0m\u001b[1;33m.\u001b[0m\u001b[0m_fit_transform\u001b[0m\u001b[1;33m(\u001b[0m\u001b[0mX\u001b[0m\u001b[1;33m,\u001b[0m \u001b[1;32mNone\u001b[0m\u001b[1;33m,\u001b[0m \u001b[0m_transform_one\u001b[0m\u001b[1;33m,\u001b[0m \u001b[0mfitted\u001b[0m\u001b[1;33m=\u001b[0m\u001b[1;32mTrue\u001b[0m\u001b[1;33m)\u001b[0m\u001b[1;33m\u001b[0m\u001b[1;33m\u001b[0m\u001b[0m\n\u001b[0m\u001b[0;32m    565\u001b[0m         \u001b[0mself\u001b[0m\u001b[1;33m.\u001b[0m\u001b[0m_validate_output\u001b[0m\u001b[1;33m(\u001b[0m\u001b[0mXs\u001b[0m\u001b[1;33m)\u001b[0m\u001b[1;33m\u001b[0m\u001b[1;33m\u001b[0m\u001b[0m\n\u001b[0;32m    566\u001b[0m \u001b[1;33m\u001b[0m\u001b[0m\n",
      "\u001b[1;32m~\\Anaconda3\\lib\\site-packages\\sklearn\\compose\\_column_transformer.py\u001b[0m in \u001b[0;36m_fit_transform\u001b[1;34m(self, X, y, func, fitted)\u001b[0m\n\u001b[0;32m    432\u001b[0m             self._iter(fitted=fitted, replace_strings=True))\n\u001b[0;32m    433\u001b[0m         \u001b[1;32mtry\u001b[0m\u001b[1;33m:\u001b[0m\u001b[1;33m\u001b[0m\u001b[1;33m\u001b[0m\u001b[0m\n\u001b[1;32m--> 434\u001b[1;33m             return Parallel(n_jobs=self.n_jobs)(\n\u001b[0m\u001b[0;32m    435\u001b[0m                 delayed(func)(\n\u001b[0;32m    436\u001b[0m                     \u001b[0mtransformer\u001b[0m\u001b[1;33m=\u001b[0m\u001b[0mclone\u001b[0m\u001b[1;33m(\u001b[0m\u001b[0mtrans\u001b[0m\u001b[1;33m)\u001b[0m \u001b[1;32mif\u001b[0m \u001b[1;32mnot\u001b[0m \u001b[0mfitted\u001b[0m \u001b[1;32melse\u001b[0m \u001b[0mtrans\u001b[0m\u001b[1;33m,\u001b[0m\u001b[1;33m\u001b[0m\u001b[1;33m\u001b[0m\u001b[0m\n",
      "\u001b[1;32m~\\Anaconda3\\lib\\site-packages\\joblib\\parallel.py\u001b[0m in \u001b[0;36m__call__\u001b[1;34m(self, iterable)\u001b[0m\n\u001b[0;32m   1044\u001b[0m                 \u001b[0mself\u001b[0m\u001b[1;33m.\u001b[0m\u001b[0m_iterating\u001b[0m \u001b[1;33m=\u001b[0m \u001b[0mself\u001b[0m\u001b[1;33m.\u001b[0m\u001b[0m_original_iterator\u001b[0m \u001b[1;32mis\u001b[0m \u001b[1;32mnot\u001b[0m \u001b[1;32mNone\u001b[0m\u001b[1;33m\u001b[0m\u001b[1;33m\u001b[0m\u001b[0m\n\u001b[0;32m   1045\u001b[0m \u001b[1;33m\u001b[0m\u001b[0m\n\u001b[1;32m-> 1046\u001b[1;33m             \u001b[1;32mwhile\u001b[0m \u001b[0mself\u001b[0m\u001b[1;33m.\u001b[0m\u001b[0mdispatch_one_batch\u001b[0m\u001b[1;33m(\u001b[0m\u001b[0miterator\u001b[0m\u001b[1;33m)\u001b[0m\u001b[1;33m:\u001b[0m\u001b[1;33m\u001b[0m\u001b[1;33m\u001b[0m\u001b[0m\n\u001b[0m\u001b[0;32m   1047\u001b[0m                 \u001b[1;32mpass\u001b[0m\u001b[1;33m\u001b[0m\u001b[1;33m\u001b[0m\u001b[0m\n\u001b[0;32m   1048\u001b[0m \u001b[1;33m\u001b[0m\u001b[0m\n",
      "\u001b[1;32m~\\Anaconda3\\lib\\site-packages\\joblib\\parallel.py\u001b[0m in \u001b[0;36mdispatch_one_batch\u001b[1;34m(self, iterator)\u001b[0m\n\u001b[0;32m    859\u001b[0m                 \u001b[1;32mreturn\u001b[0m \u001b[1;32mFalse\u001b[0m\u001b[1;33m\u001b[0m\u001b[1;33m\u001b[0m\u001b[0m\n\u001b[0;32m    860\u001b[0m             \u001b[1;32melse\u001b[0m\u001b[1;33m:\u001b[0m\u001b[1;33m\u001b[0m\u001b[1;33m\u001b[0m\u001b[0m\n\u001b[1;32m--> 861\u001b[1;33m                 \u001b[0mself\u001b[0m\u001b[1;33m.\u001b[0m\u001b[0m_dispatch\u001b[0m\u001b[1;33m(\u001b[0m\u001b[0mtasks\u001b[0m\u001b[1;33m)\u001b[0m\u001b[1;33m\u001b[0m\u001b[1;33m\u001b[0m\u001b[0m\n\u001b[0m\u001b[0;32m    862\u001b[0m                 \u001b[1;32mreturn\u001b[0m \u001b[1;32mTrue\u001b[0m\u001b[1;33m\u001b[0m\u001b[1;33m\u001b[0m\u001b[0m\n\u001b[0;32m    863\u001b[0m \u001b[1;33m\u001b[0m\u001b[0m\n",
      "\u001b[1;32m~\\Anaconda3\\lib\\site-packages\\joblib\\parallel.py\u001b[0m in \u001b[0;36m_dispatch\u001b[1;34m(self, batch)\u001b[0m\n\u001b[0;32m    777\u001b[0m         \u001b[1;32mwith\u001b[0m \u001b[0mself\u001b[0m\u001b[1;33m.\u001b[0m\u001b[0m_lock\u001b[0m\u001b[1;33m:\u001b[0m\u001b[1;33m\u001b[0m\u001b[1;33m\u001b[0m\u001b[0m\n\u001b[0;32m    778\u001b[0m             \u001b[0mjob_idx\u001b[0m \u001b[1;33m=\u001b[0m \u001b[0mlen\u001b[0m\u001b[1;33m(\u001b[0m\u001b[0mself\u001b[0m\u001b[1;33m.\u001b[0m\u001b[0m_jobs\u001b[0m\u001b[1;33m)\u001b[0m\u001b[1;33m\u001b[0m\u001b[1;33m\u001b[0m\u001b[0m\n\u001b[1;32m--> 779\u001b[1;33m             \u001b[0mjob\u001b[0m \u001b[1;33m=\u001b[0m \u001b[0mself\u001b[0m\u001b[1;33m.\u001b[0m\u001b[0m_backend\u001b[0m\u001b[1;33m.\u001b[0m\u001b[0mapply_async\u001b[0m\u001b[1;33m(\u001b[0m\u001b[0mbatch\u001b[0m\u001b[1;33m,\u001b[0m \u001b[0mcallback\u001b[0m\u001b[1;33m=\u001b[0m\u001b[0mcb\u001b[0m\u001b[1;33m)\u001b[0m\u001b[1;33m\u001b[0m\u001b[1;33m\u001b[0m\u001b[0m\n\u001b[0m\u001b[0;32m    780\u001b[0m             \u001b[1;31m# A job can complete so quickly than its callback is\u001b[0m\u001b[1;33m\u001b[0m\u001b[1;33m\u001b[0m\u001b[0m\n\u001b[0;32m    781\u001b[0m             \u001b[1;31m# called before we get here, causing self._jobs to\u001b[0m\u001b[1;33m\u001b[0m\u001b[1;33m\u001b[0m\u001b[0m\n",
      "\u001b[1;32m~\\Anaconda3\\lib\\site-packages\\joblib\\_parallel_backends.py\u001b[0m in \u001b[0;36mapply_async\u001b[1;34m(self, func, callback)\u001b[0m\n\u001b[0;32m    206\u001b[0m     \u001b[1;32mdef\u001b[0m \u001b[0mapply_async\u001b[0m\u001b[1;33m(\u001b[0m\u001b[0mself\u001b[0m\u001b[1;33m,\u001b[0m \u001b[0mfunc\u001b[0m\u001b[1;33m,\u001b[0m \u001b[0mcallback\u001b[0m\u001b[1;33m=\u001b[0m\u001b[1;32mNone\u001b[0m\u001b[1;33m)\u001b[0m\u001b[1;33m:\u001b[0m\u001b[1;33m\u001b[0m\u001b[1;33m\u001b[0m\u001b[0m\n\u001b[0;32m    207\u001b[0m         \u001b[1;34m\"\"\"Schedule a func to be run\"\"\"\u001b[0m\u001b[1;33m\u001b[0m\u001b[1;33m\u001b[0m\u001b[0m\n\u001b[1;32m--> 208\u001b[1;33m         \u001b[0mresult\u001b[0m \u001b[1;33m=\u001b[0m \u001b[0mImmediateResult\u001b[0m\u001b[1;33m(\u001b[0m\u001b[0mfunc\u001b[0m\u001b[1;33m)\u001b[0m\u001b[1;33m\u001b[0m\u001b[1;33m\u001b[0m\u001b[0m\n\u001b[0m\u001b[0;32m    209\u001b[0m         \u001b[1;32mif\u001b[0m \u001b[0mcallback\u001b[0m\u001b[1;33m:\u001b[0m\u001b[1;33m\u001b[0m\u001b[1;33m\u001b[0m\u001b[0m\n\u001b[0;32m    210\u001b[0m             \u001b[0mcallback\u001b[0m\u001b[1;33m(\u001b[0m\u001b[0mresult\u001b[0m\u001b[1;33m)\u001b[0m\u001b[1;33m\u001b[0m\u001b[1;33m\u001b[0m\u001b[0m\n",
      "\u001b[1;32m~\\Anaconda3\\lib\\site-packages\\joblib\\_parallel_backends.py\u001b[0m in \u001b[0;36m__init__\u001b[1;34m(self, batch)\u001b[0m\n\u001b[0;32m    570\u001b[0m         \u001b[1;31m# Don't delay the application, to avoid keeping the input\u001b[0m\u001b[1;33m\u001b[0m\u001b[1;33m\u001b[0m\u001b[0m\n\u001b[0;32m    571\u001b[0m         \u001b[1;31m# arguments in memory\u001b[0m\u001b[1;33m\u001b[0m\u001b[1;33m\u001b[0m\u001b[0m\n\u001b[1;32m--> 572\u001b[1;33m         \u001b[0mself\u001b[0m\u001b[1;33m.\u001b[0m\u001b[0mresults\u001b[0m \u001b[1;33m=\u001b[0m \u001b[0mbatch\u001b[0m\u001b[1;33m(\u001b[0m\u001b[1;33m)\u001b[0m\u001b[1;33m\u001b[0m\u001b[1;33m\u001b[0m\u001b[0m\n\u001b[0m\u001b[0;32m    573\u001b[0m \u001b[1;33m\u001b[0m\u001b[0m\n\u001b[0;32m    574\u001b[0m     \u001b[1;32mdef\u001b[0m \u001b[0mget\u001b[0m\u001b[1;33m(\u001b[0m\u001b[0mself\u001b[0m\u001b[1;33m)\u001b[0m\u001b[1;33m:\u001b[0m\u001b[1;33m\u001b[0m\u001b[1;33m\u001b[0m\u001b[0m\n",
      "\u001b[1;32m~\\Anaconda3\\lib\\site-packages\\joblib\\parallel.py\u001b[0m in \u001b[0;36m__call__\u001b[1;34m(self)\u001b[0m\n\u001b[0;32m    260\u001b[0m         \u001b[1;31m# change the default number of processes to -1\u001b[0m\u001b[1;33m\u001b[0m\u001b[1;33m\u001b[0m\u001b[0m\n\u001b[0;32m    261\u001b[0m         \u001b[1;32mwith\u001b[0m \u001b[0mparallel_backend\u001b[0m\u001b[1;33m(\u001b[0m\u001b[0mself\u001b[0m\u001b[1;33m.\u001b[0m\u001b[0m_backend\u001b[0m\u001b[1;33m,\u001b[0m \u001b[0mn_jobs\u001b[0m\u001b[1;33m=\u001b[0m\u001b[0mself\u001b[0m\u001b[1;33m.\u001b[0m\u001b[0m_n_jobs\u001b[0m\u001b[1;33m)\u001b[0m\u001b[1;33m:\u001b[0m\u001b[1;33m\u001b[0m\u001b[1;33m\u001b[0m\u001b[0m\n\u001b[1;32m--> 262\u001b[1;33m             return [func(*args, **kwargs)\n\u001b[0m\u001b[0;32m    263\u001b[0m                     for func, args, kwargs in self.items]\n\u001b[0;32m    264\u001b[0m \u001b[1;33m\u001b[0m\u001b[0m\n",
      "\u001b[1;32m~\\Anaconda3\\lib\\site-packages\\joblib\\parallel.py\u001b[0m in \u001b[0;36m<listcomp>\u001b[1;34m(.0)\u001b[0m\n\u001b[0;32m    260\u001b[0m         \u001b[1;31m# change the default number of processes to -1\u001b[0m\u001b[1;33m\u001b[0m\u001b[1;33m\u001b[0m\u001b[0m\n\u001b[0;32m    261\u001b[0m         \u001b[1;32mwith\u001b[0m \u001b[0mparallel_backend\u001b[0m\u001b[1;33m(\u001b[0m\u001b[0mself\u001b[0m\u001b[1;33m.\u001b[0m\u001b[0m_backend\u001b[0m\u001b[1;33m,\u001b[0m \u001b[0mn_jobs\u001b[0m\u001b[1;33m=\u001b[0m\u001b[0mself\u001b[0m\u001b[1;33m.\u001b[0m\u001b[0m_n_jobs\u001b[0m\u001b[1;33m)\u001b[0m\u001b[1;33m:\u001b[0m\u001b[1;33m\u001b[0m\u001b[1;33m\u001b[0m\u001b[0m\n\u001b[1;32m--> 262\u001b[1;33m             return [func(*args, **kwargs)\n\u001b[0m\u001b[0;32m    263\u001b[0m                     for func, args, kwargs in self.items]\n\u001b[0;32m    264\u001b[0m \u001b[1;33m\u001b[0m\u001b[0m\n",
      "\u001b[1;32m~\\Anaconda3\\lib\\site-packages\\sklearn\\utils\\fixes.py\u001b[0m in \u001b[0;36m__call__\u001b[1;34m(self, *args, **kwargs)\u001b[0m\n\u001b[0;32m    220\u001b[0m     \u001b[1;32mdef\u001b[0m \u001b[0m__call__\u001b[0m\u001b[1;33m(\u001b[0m\u001b[0mself\u001b[0m\u001b[1;33m,\u001b[0m \u001b[1;33m*\u001b[0m\u001b[0margs\u001b[0m\u001b[1;33m,\u001b[0m \u001b[1;33m**\u001b[0m\u001b[0mkwargs\u001b[0m\u001b[1;33m)\u001b[0m\u001b[1;33m:\u001b[0m\u001b[1;33m\u001b[0m\u001b[1;33m\u001b[0m\u001b[0m\n\u001b[0;32m    221\u001b[0m         \u001b[1;32mwith\u001b[0m \u001b[0mconfig_context\u001b[0m\u001b[1;33m(\u001b[0m\u001b[1;33m**\u001b[0m\u001b[0mself\u001b[0m\u001b[1;33m.\u001b[0m\u001b[0mconfig\u001b[0m\u001b[1;33m)\u001b[0m\u001b[1;33m:\u001b[0m\u001b[1;33m\u001b[0m\u001b[1;33m\u001b[0m\u001b[0m\n\u001b[1;32m--> 222\u001b[1;33m             \u001b[1;32mreturn\u001b[0m \u001b[0mself\u001b[0m\u001b[1;33m.\u001b[0m\u001b[0mfunction\u001b[0m\u001b[1;33m(\u001b[0m\u001b[1;33m*\u001b[0m\u001b[0margs\u001b[0m\u001b[1;33m,\u001b[0m \u001b[1;33m**\u001b[0m\u001b[0mkwargs\u001b[0m\u001b[1;33m)\u001b[0m\u001b[1;33m\u001b[0m\u001b[1;33m\u001b[0m\u001b[0m\n\u001b[0m",
      "\u001b[1;32m~\\Anaconda3\\lib\\site-packages\\sklearn\\pipeline.py\u001b[0m in \u001b[0;36m_transform_one\u001b[1;34m(transformer, X, y, weight, **fit_params)\u001b[0m\n\u001b[0;32m    731\u001b[0m \u001b[1;33m\u001b[0m\u001b[0m\n\u001b[0;32m    732\u001b[0m \u001b[1;32mdef\u001b[0m \u001b[0m_transform_one\u001b[0m\u001b[1;33m(\u001b[0m\u001b[0mtransformer\u001b[0m\u001b[1;33m,\u001b[0m \u001b[0mX\u001b[0m\u001b[1;33m,\u001b[0m \u001b[0my\u001b[0m\u001b[1;33m,\u001b[0m \u001b[0mweight\u001b[0m\u001b[1;33m,\u001b[0m \u001b[1;33m**\u001b[0m\u001b[0mfit_params\u001b[0m\u001b[1;33m)\u001b[0m\u001b[1;33m:\u001b[0m\u001b[1;33m\u001b[0m\u001b[1;33m\u001b[0m\u001b[0m\n\u001b[1;32m--> 733\u001b[1;33m     \u001b[0mres\u001b[0m \u001b[1;33m=\u001b[0m \u001b[0mtransformer\u001b[0m\u001b[1;33m.\u001b[0m\u001b[0mtransform\u001b[0m\u001b[1;33m(\u001b[0m\u001b[0mX\u001b[0m\u001b[1;33m)\u001b[0m\u001b[1;33m\u001b[0m\u001b[1;33m\u001b[0m\u001b[0m\n\u001b[0m\u001b[0;32m    734\u001b[0m     \u001b[1;31m# if we have a weight for this transformer, multiply output\u001b[0m\u001b[1;33m\u001b[0m\u001b[1;33m\u001b[0m\u001b[0m\n\u001b[0;32m    735\u001b[0m     \u001b[1;32mif\u001b[0m \u001b[0mweight\u001b[0m \u001b[1;32mis\u001b[0m \u001b[1;32mNone\u001b[0m\u001b[1;33m:\u001b[0m\u001b[1;33m\u001b[0m\u001b[1;33m\u001b[0m\u001b[0m\n",
      "\u001b[1;32m~\\Anaconda3\\lib\\site-packages\\sklearn\\preprocessing\\_encoders.py\u001b[0m in \u001b[0;36mtransform\u001b[1;34m(self, X)\u001b[0m\n\u001b[0;32m    469\u001b[0m         \u001b[0mcheck_is_fitted\u001b[0m\u001b[1;33m(\u001b[0m\u001b[0mself\u001b[0m\u001b[1;33m)\u001b[0m\u001b[1;33m\u001b[0m\u001b[1;33m\u001b[0m\u001b[0m\n\u001b[0;32m    470\u001b[0m         \u001b[1;31m# validation of X happens in _check_X called by _transform\u001b[0m\u001b[1;33m\u001b[0m\u001b[1;33m\u001b[0m\u001b[0m\n\u001b[1;32m--> 471\u001b[1;33m         X_int, X_mask = self._transform(X, handle_unknown=self.handle_unknown,\n\u001b[0m\u001b[0;32m    472\u001b[0m                                         force_all_finite='allow-nan')\n\u001b[0;32m    473\u001b[0m \u001b[1;33m\u001b[0m\u001b[0m\n",
      "\u001b[1;32m~\\Anaconda3\\lib\\site-packages\\sklearn\\preprocessing\\_encoders.py\u001b[0m in \u001b[0;36m_transform\u001b[1;34m(self, X, handle_unknown, force_all_finite)\u001b[0m\n\u001b[0;32m    127\u001b[0m         \u001b[1;32mfor\u001b[0m \u001b[0mi\u001b[0m \u001b[1;32min\u001b[0m \u001b[0mrange\u001b[0m\u001b[1;33m(\u001b[0m\u001b[0mn_features\u001b[0m\u001b[1;33m)\u001b[0m\u001b[1;33m:\u001b[0m\u001b[1;33m\u001b[0m\u001b[1;33m\u001b[0m\u001b[0m\n\u001b[0;32m    128\u001b[0m             \u001b[0mXi\u001b[0m \u001b[1;33m=\u001b[0m \u001b[0mX_list\u001b[0m\u001b[1;33m[\u001b[0m\u001b[0mi\u001b[0m\u001b[1;33m]\u001b[0m\u001b[1;33m\u001b[0m\u001b[1;33m\u001b[0m\u001b[0m\n\u001b[1;32m--> 129\u001b[1;33m             diff, valid_mask = _check_unknown(Xi, self.categories_[i],\n\u001b[0m\u001b[0;32m    130\u001b[0m                                               return_mask=True)\n\u001b[0;32m    131\u001b[0m \u001b[1;33m\u001b[0m\u001b[0m\n",
      "\u001b[1;32m~\\Anaconda3\\lib\\site-packages\\sklearn\\utils\\_encode.py\u001b[0m in \u001b[0;36m_check_unknown\u001b[1;34m(values, known_values, return_mask)\u001b[0m\n\u001b[0;32m    253\u001b[0m \u001b[1;33m\u001b[0m\u001b[0m\n\u001b[0;32m    254\u001b[0m         \u001b[1;31m# check for nans in the known_values\u001b[0m\u001b[1;33m\u001b[0m\u001b[1;33m\u001b[0m\u001b[0m\n\u001b[1;32m--> 255\u001b[1;33m         \u001b[1;32mif\u001b[0m \u001b[0mnp\u001b[0m\u001b[1;33m.\u001b[0m\u001b[0misnan\u001b[0m\u001b[1;33m(\u001b[0m\u001b[0mknown_values\u001b[0m\u001b[1;33m)\u001b[0m\u001b[1;33m.\u001b[0m\u001b[0many\u001b[0m\u001b[1;33m(\u001b[0m\u001b[1;33m)\u001b[0m\u001b[1;33m:\u001b[0m\u001b[1;33m\u001b[0m\u001b[1;33m\u001b[0m\u001b[0m\n\u001b[0m\u001b[0;32m    256\u001b[0m             \u001b[0mdiff_is_nan\u001b[0m \u001b[1;33m=\u001b[0m \u001b[0mnp\u001b[0m\u001b[1;33m.\u001b[0m\u001b[0misnan\u001b[0m\u001b[1;33m(\u001b[0m\u001b[0mdiff\u001b[0m\u001b[1;33m)\u001b[0m\u001b[1;33m\u001b[0m\u001b[1;33m\u001b[0m\u001b[0m\n\u001b[0;32m    257\u001b[0m             \u001b[1;32mif\u001b[0m \u001b[0mdiff_is_nan\u001b[0m\u001b[1;33m.\u001b[0m\u001b[0many\u001b[0m\u001b[1;33m(\u001b[0m\u001b[1;33m)\u001b[0m\u001b[1;33m:\u001b[0m\u001b[1;33m\u001b[0m\u001b[1;33m\u001b[0m\u001b[0m\n",
      "\u001b[1;31mTypeError\u001b[0m: ufunc 'isnan' not supported for the input types, and the inputs could not be safely coerced to any supported types according to the casting rule ''safe''"
     ]
    }
   ],
   "source": [
    "preds = model.predict(pred_df.loc[:,df_X.columns])"
   ]
  },
  {
   "cell_type": "code",
   "execution_count": null,
   "id": "0ef7183a",
   "metadata": {},
   "outputs": [],
   "source": [
    "df_preds = pd.DataFrame(preds, columns=df_y.columns)\n",
    "df_preds"
   ]
  },
  {
   "cell_type": "code",
   "execution_count": null,
   "id": "065cf69b",
   "metadata": {},
   "outputs": [],
   "source": [
    "out_df = pd.concat([df_preds, pred_df[\"datetime\"]], axis=1).set_index(\"datetime\")\n",
    "out_df"
   ]
  },
  {
   "cell_type": "code",
   "execution_count": null,
   "id": "48192d11",
   "metadata": {},
   "outputs": [],
   "source": []
  },
  {
   "cell_type": "code",
   "execution_count": null,
   "id": "e87e609f",
   "metadata": {},
   "outputs": [],
   "source": [
    "assert (orig.index == out_df.index).all()"
   ]
  },
  {
   "cell_type": "code",
   "execution_count": null,
   "id": "5144a730",
   "metadata": {},
   "outputs": [],
   "source": [
    "pred_df.to_csv(\"../container-data/prediction_output_lasso.csv\")"
   ]
  }
 ],
 "metadata": {
  "kernelspec": {
   "display_name": "Python 3 (ipykernel)",
   "language": "python",
   "name": "python3"
  },
  "language_info": {
   "codemirror_mode": {
    "name": "ipython",
    "version": 3
   },
   "file_extension": ".py",
   "mimetype": "text/x-python",
   "name": "python",
   "nbconvert_exporter": "python",
   "pygments_lexer": "ipython3",
   "version": "3.9.7"
  }
 },
 "nbformat": 4,
 "nbformat_minor": 5
}
